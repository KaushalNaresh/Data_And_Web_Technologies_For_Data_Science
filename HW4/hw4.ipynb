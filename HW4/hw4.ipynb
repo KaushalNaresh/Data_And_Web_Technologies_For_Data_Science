{
 "cells": [
  {
   "cell_type": "markdown",
   "id": "7b4bee3a",
   "metadata": {
    "tags": [
     "header"
    ]
   },
   "source": [
    "# STA 220 Assignment 4\n",
    "\n",
    "Due __March 8, 2024__ by __11:59pm__. Submit your work by uploading it to Gradescope through Canvas.\n",
    "\n",
    "Instructions:\n",
    "\n",
    "1. Provide your solutions in new cells following each exercise description. Create as many new cells as necessary. Use code cells for your Python scripts and Markdown cells for explanatory text or answers to non-coding questions. Answer all textual questions in complete sentences.\n",
    "2. The use of assistive tools is permitted, but must be indicated. You will be graded on you proficiency in coding. Produce high quality code by adhering to proper programming principles. \n",
    "3. Export the .jpynb as .pdf and submit it on Gradescope in time. To facilitate grading, indicate the area of the solution on the submission. Submissions without indication will be marked down. No late submissions accepted. \n",
    "4. If test cases are given, your solution must be in the same format. \n",
    "5. The total number of points is 10. "
   ]
  },
  {
   "cell_type": "code",
   "execution_count": 132,
   "id": "fbefa2c5",
   "metadata": {},
   "outputs": [],
   "source": [
    "import re\n",
    "from selenium import webdriver\n",
    "from selenium.webdriver.chrome.service import Service\n",
    "from webdriver_manager.chrome import ChromeDriverManager\n",
    "from selenium.common.exceptions import TimeoutException, NoSuchElementException\n",
    "from selenium.webdriver.support.ui import WebDriverWait\n",
    "from selenium.webdriver.support import expected_conditions as EC\n",
    "import time\n",
    "from bs4 import BeautifulSoup, NavigableString\n",
    "import pandas as pd\n",
    "import json\n",
    "import requests\n",
    "import warnings\n",
    "import plotly.graph_objects as go\n",
    "import geopandas as gpd\n",
    "import matplotlib.pyplot as plt\n",
    "from bokeh.io import show, output_file\n",
    "from bokeh.plotting import figure\n",
    "from bokeh.models import ColumnDataSource, Slider, CustomJS\n",
    "from bokeh.layouts import column\n",
    "warnings.filterwarnings('ignore')"
   ]
  },
  {
   "cell_type": "markdown",
   "id": "4f1d2feb",
   "metadata": {},
   "source": [
    "__Exercise 1__ Lets retrieve data from the [CIA World Factbook](https://www.cia.gov/the-world-factbook/) and visualize parts of it. "
   ]
  },
  {
   "cell_type": "markdown",
   "id": "e2c1097f",
   "metadata": {
    "tags": [
     "exercise"
    ]
   },
   "source": [
    "__(a)__ Using devtools, find a way to retrieve the names of all listed world entities. In order to navigate to their respective site, I assembled the path by processing the country names. To this end, __(i)__ write a function `process_names` that processes the name as string according to the requests query parameter. _Run:_ \n",
    "```\n",
    "process_names('Falkland Islands (Islas Malvinas)')\n",
    "```"
   ]
  },
  {
   "cell_type": "code",
   "execution_count": 2,
   "id": "17311c86",
   "metadata": {},
   "outputs": [],
   "source": [
    "def process_names(name):\n",
    "    \n",
    "    words = re.findall(r'\\b\\w+\\b', name.lower())\n",
    "    processed_name = '-'.join(words)\n",
    "\n",
    "    return processed_name"
   ]
  },
  {
   "cell_type": "code",
   "execution_count": 3,
   "id": "25b5bd16",
   "metadata": {},
   "outputs": [
    {
     "name": "stdout",
     "output_type": "stream",
     "text": [
      "falkland-islands-islas-malvinas\n",
      "french-southern-and-antarctic-lands\n",
      "bahamas-the\n"
     ]
    }
   ],
   "source": [
    "print(process_names('Falkland Islands (Islas Malvinas)'))\n",
    "print(process_names('French Southern and Antarctic Lands'))\n",
    "print(process_names('Bahamas, The'))"
   ]
  },
  {
   "cell_type": "markdown",
   "id": "56a33c2a",
   "metadata": {},
   "source": [
    "__(ii)__ Obtain all world entity names. _How many have you found? Hint: I could not retrieve data for all 266 entities that the CIA WFB claims to have._"
   ]
  },
  {
   "cell_type": "code",
   "execution_count": 54,
   "id": "48b56cdc",
   "metadata": {},
   "outputs": [],
   "source": [
    "driver = webdriver.Chrome(service=Service(ChromeDriverManager().install()))\n",
    "driver.set_page_load_timeout(20)\n",
    "countries = {}\n",
    "\n",
    "try:\n",
    "    driver.get(\"https://www.cia.gov/the-world-factbook/countries/\")\n",
    "\n",
    "    for letter in 'ABCDEFGHIJKLMNOPQRSTUVWXYZ':\n",
    "        try:\n",
    "            button = driver.find_element('xpath', f\"//button[.//span[text()='{letter}']]\")\n",
    "            button.click()\n",
    "            time.sleep(2)\n",
    "            \n",
    "            while True:\n",
    "                soup = BeautifulSoup(driver.page_source, 'html.parser')\n",
    "                country_tags = soup.select('a[href*=\"/the-world-factbook/countries/\"]')\n",
    "                for tag in country_tags:\n",
    "                    if tag.text.strip() != '' and tag.text.strip() != 'Countries' and tag.text.strip() != 'World':\n",
    "                        countries[tag.text.strip()] = tag['href'].strip().split('/')[-2]\n",
    "                try:\n",
    "                    next_page_button = driver.find_element('css selector', 'span.pagination__arrow-right:not(.disabled)')\n",
    "                    next_page_button.click()\n",
    "                    time.sleep(2)\n",
    "                except NoSuchElementException:\n",
    "                    break\n",
    "\n",
    "        except TimeoutException:\n",
    "            print(f\"Loading the page took too long for letter {letter}.\")\n",
    "\n",
    "finally:\n",
    "    driver.quit()"
   ]
  },
  {
   "cell_type": "code",
   "execution_count": 55,
   "id": "26e9ff04",
   "metadata": {},
   "outputs": [
    {
     "name": "stdout",
     "output_type": "stream",
     "text": [
      "Total countries found: 254\n"
     ]
    }
   ],
   "source": [
    "print(f\"Total countries found: {len(set(countries.values()))}\")"
   ]
  },
  {
   "cell_type": "markdown",
   "id": "7ba0cdab",
   "metadata": {},
   "source": [
    "__(iii)__ Write a function `get_info` takes a country name as string as input and return all the information as json that is displayed on its respective site. Use the retrieved data set for the next exercises. _Hint: If you rate-limit your requests (you should!) this may take up to 10 minutes._"
   ]
  },
  {
   "cell_type": "code",
   "execution_count": 7,
   "id": "913d61d5",
   "metadata": {},
   "outputs": [],
   "source": [
    "import requests\n",
    "\n",
    "def get_info(country_name):\n",
    "\n",
    "    url_country_name = countries[country_name]\n",
    "    info_country_name = process_names(country_name)\n",
    "    url = f\"https://www.cia.gov/the-world-factbook/page-data/countries/{url_country_name}/page-data.json\"\n",
    "    response = requests.get(url)\n",
    "    if response.status_code == 200:\n",
    "        data = response.json()\n",
    "        info[info_country_name] = data\n",
    "    else:\n",
    "        print(f\"Failed to retrieve data for {country}\")\n",
    "    time.sleep(3)\n",
    "\n",
    "info = {}\n",
    "for country in countries.keys():\n",
    "    get_info(country)\n"
   ]
  },
  {
   "cell_type": "markdown",
   "id": "cedd5398",
   "metadata": {},
   "source": [
    "__(b)__ Lets learn about the newest updated data points in the CIA world factbook - the merchant marine! __(i)__ Write a function `ports` that returns a list of all major seaports of a given country. _Run:_\n",
    "\n",
    "```\n",
    "ports('United States')\n",
    "```"
   ]
  },
  {
   "cell_type": "code",
   "execution_count": 8,
   "id": "9afb52a3",
   "metadata": {},
   "outputs": [],
   "source": [
    "def ports(country_name):\n",
    "\n",
    "    data = info[process_names(country_name)]\n",
    "    \n",
    "    for entry in data['result']['data']['fields']['nodes']:\n",
    "        if entry['name'].strip() == 'Ports and terminals':\n",
    "            soup = BeautifulSoup(entry['data'], 'html.parser')\n",
    "            strong_tags = soup.find_all('strong')\n",
    "            for tag in strong_tags:\n",
    "                if 'major seaport(s):' in tag.text:\n",
    "                    next_strong_tag = tag.find_next('strong')\n",
    "                    seaport_data = \"\"\n",
    "                    \n",
    "                    if next_strong_tag:\n",
    "                        for t in tag.next_siblings:\n",
    "                            if(t == next_strong_tag):\n",
    "                                break\n",
    "                            if not (isinstance(t, NavigableString) or t.name != 'em'):\n",
    "                                continue  \n",
    "                            seaport_data += t.text if not isinstance(t, NavigableString) else t\n",
    "                    else:\n",
    "                        for t in tag.next_siblings:\n",
    "                            if not (isinstance(t, NavigableString) or t.name != 'em'):\n",
    "                                continue  \n",
    "                            seaport_data += t.text if not isinstance(t, NavigableString) else t\n",
    "                    return seaport_data.strip()\n",
    "            return \"NA\"\n",
    "    return \"NA\"\n",
    "            "
   ]
  },
  {
   "cell_type": "code",
   "execution_count": 9,
   "id": "23210136",
   "metadata": {},
   "outputs": [
    {
     "data": {
      "text/plain": [
       "['Charleston',\n",
       " ' Hampton Roads',\n",
       " ' New York/New Jersey',\n",
       " ' Savannah Long Beach',\n",
       " ' Los Angeles',\n",
       " ' Oakland',\n",
       " ' Seattle/Tacoma Houston']"
      ]
     },
     "execution_count": 9,
     "metadata": {},
     "output_type": "execute_result"
    }
   ],
   "source": [
    "ports_list = ports('united-states').split(',')\n",
    "ports_list\n"
   ]
  },
  {
   "cell_type": "markdown",
   "id": "5feec690",
   "metadata": {},
   "source": [
    "__(ii)__ Lets put a marker on a world map corresponding to the location of all major seaports that you retrieved. Use the [Nominatim](https://nominatim.org/) API to get latitute-longitude pairs. Make structured queries and pass the `city` and `country` keys. Use the first value that is returned. \n",
    "\n",
    "_Print the world map. Name three markers that are apparently misplaced._"
   ]
  },
  {
   "cell_type": "code",
   "execution_count": 10,
   "id": "dac20f6c",
   "metadata": {},
   "outputs": [],
   "source": [
    "country_seaports = {}\n",
    "for country in countries:\n",
    "    country_seaports[country] = ports(country).split(',')"
   ]
  },
  {
   "cell_type": "code",
   "execution_count": 11,
   "id": "37febc4c",
   "metadata": {},
   "outputs": [],
   "source": [
    "def get_lat_long(seaport, country):\n",
    "    params = {'city': seaport, 'country': country, 'format': 'json'}\n",
    "    response = requests.get(\"https://nominatim.openstreetmap.org/search\", params=params)\n",
    "    data = response.json()\n",
    "    if data:\n",
    "        return float(data[0]['lat']), float(data[0]['lon'])\n",
    "    else:\n",
    "        return None, None"
   ]
  },
  {
   "cell_type": "code",
   "execution_count": 12,
   "id": "1615eadb",
   "metadata": {},
   "outputs": [],
   "source": [
    "seaport_names, longitudes, latitudes = [], [], []\n",
    "for country, seaports in country_seaports.items():\n",
    "    for seaport in seaports:\n",
    "        lat, lon = get_lat_long(seaport, country)\n",
    "        time.sleep(3)\n",
    "        if(lat and lon and seaport != 'NA'):\n",
    "            seaport_names.append(seaport)\n",
    "            latitudes.append(lat)\n",
    "            longitudes.append(lon)"
   ]
  },
  {
   "cell_type": "code",
   "execution_count": 13,
   "id": "2e2eb4b8",
   "metadata": {},
   "outputs": [
    {
     "data": {
      "application/vnd.plotly.v1+json": {
       "config": {
        "plotlyServerURL": "https://plot.ly"
       },
       "data": [
        {
         "lat": [
          41.33105689999999,
          39.8752198,
          41.8097827,
          40.4707602,
          36.7753606,
          36.8982165,
          35.856348,
          36.7511783,
          36.8167305,
          35.928808,
          35.7044415,
          36.879882,
          -5.5576435,
          -12.3506867,
          -8.8272699,
          -15.195064,
          18.17504,
          18.1993278,
          17.1184569,
          -38.7176522,
          -34.6037181,
          -34.9206797,
          -41.6942467,
          -54.8069332,
          -34.9281805,
          -12.46044,
          -32.0534086,
          -38.1493248,
          -16.9206657,
          -23.8431724,
          -42.8825088,
          -32.9272881,
          -34.46346,
          -33.8698439,
          26.2018153,
          26.147831699999998,
          22.65610775,
          13.0977832,
          51.2258565,
          51.3312211,
          17.5002768,
          16.5111392,
          6.3676953,
          32.2942679,
          32.3249282,
          32.3810447,
          -1.45056,
          -26.9046787,
          -25.5148822,
          -32.0334252,
          -22.9110137,
          -23.9335988,
          -23.8027866,
          -28.471488,
          -7.338358449999999,
          5.0262617,
          42.4936616,
          16.4908026,
          20.15,
          16.8831878,
          44.648618,
          49.2608724,
          19.71988615,
          19.2953549,
          -37.0164712,
          -28.4651248,
          -36.7126985,
          -33.5808615,
          -34.4392675,
          -33.0458456,
          38.9181714,
          29.8622194,
          36.0637967,
          39.9395724,
          31.2323437,
          22.5445741,
          39.1175488,
          24.4801069,
          11.2320944,
          -11.6931255,
          -21.2086088,
          5.320357,
          4.7581592,
          43.0524293,
          45.3267976,
          43.74117455,
          43.5116383,
          20.827544,
          22.1459864,
          20.1431797,
          23.135305,
          23.0469236,
          22.9890956,
          20.0214637,
          34.6852901,
          35.3352654,
          55.6867243,
          55.565268,
          55.6833793,
          11.5936903,
          15.575915,
          15.2991923,
          18.4207256,
          19.7891616,
          18.4801972,
          0.9668153,
          -0.9482874,
          -4.2968776,
          31.4167427,
          31.13147795,
          31.263235,
          13.33252815,
          1.869189,
          3.459841,
          3.741877,
          13.0091289,
          15.6031828,
          58.5700194,
          59.50554135,
          59.10750125,
          59.396265,
          59.4372155,
          62.2439162,
          62.012,
          61.4747101,
          -17.6043956,
          -17.6806903,
          -18.1415884,
          60.1674881,
          60.4674228,
          60.4688687,
          60.3953913,
          64.6795905,
          61.1289148,
          48.3905283,
          50.9524769,
          51.0347708,
          49.4938975,
          0.4086518,
          0.3208235,
          -0.7151966,
          42.141614,
          54.3227085,
          53.8972549,
          53.3670541,
          53.550341,
          53.5278793,
          4.887401,
          5.6596441,
          36.140807,
          38.058688,
          37.964953050000005,
          37.9431594,
          40.6403167,
          66.9371906,
          12.0535331,
          13.95522295,
          15.6866305,
          49.7248599,
          49.4568142,
          9.5170602,
          10.6643896,
          11.861324,
          11.591979,
          12.274246,
          12.4823646,
          6.8137426,
          19.7595236,
          19.4460597,
          18.2352587,
          18.547327,
          15.7833743,
          15.851465,
          13.4213327,
          15.7824826,
          64.3601585,
          64.0695354,
          64.145981,
          13.0836939,
          32.6912634,
          22.5726459,
          18.9733536,
          22.4290087,
          -3.3187496,
          -0.5791924,
          -6.1135663,
          -2.9888243,
          -1.2240443,
          -6.12885785,
          27.1793466,
          30.5502699,
          53.3493795,
          54.149774,
          54.3219261,
          31.7958896,
          29.5569348,
          32.43699,
          32.799313,
          37.2369363,
          39.2171994,
          44.40726,
          43.5507317,
          40.4712427,
          45.6496485,
          45.4371908,
          17.9712148,
          18.4724603,
          18.1763606,
          17.8923028,
          17.86265545,
          17.7724771,
          35.609985,
          35.5305307,
          34.6932379,
          32.7578605,
          33.9352572,
          35.1851045,
          34.6937569,
          35.6821936,
          42.6340602,
          35.4443947,
          49.1988275,
          49.1874419,
          49.1856637,
          29.5266483,
          -0.1029109,
          -4.05052,
          41.783248,
          38.0401144,
          39.8508684,
          38.7367448,
          38.7535598,
          39.1725946,
          35.1799528,
          37.456,
          35.9679984,
          34.7903335,
          36.0189315,
          35.5391697,
          34.7546257,
          29.061148099999997,
          56.9493977,
          57.3903918,
          33.8959203,
          34.4373616,
          5.88129,
          6.328034,
          32.896672,
          55.7127529,
          -12.2779134,
          -15.7181492,
          -18.1553985,
          -23.354173,
          3.1874261,
          1.503555,
          3.0027625,
          1.35524495,
          4.1779879,
          35.8989818,
          8.7306189,
          7.0909924,
          20.9127045,
          18.061891799999998,
          -20.1624522,
          22.3921625,
          18.1396787,
          27.2103872,
          19.0506256,
          19.2003429,
          42.0979745,
          16.7982261,
          16.70544245,
          23.6940663,
          30.4205162,
          33.5945144,
          33.118216849999996,
          27.154512,
          33.6958383,
          32.299424,
          35.7696302,
          -19.828707,
          -25.966213,
          -14.5583059,
          -26.6500086,
          -22.9557607,
          -0.5283182,
          52.4574236,
          51.4480929,
          -36.852095,
          -43.6024739,
          -35.847474,
          -37.6859006,
          -41.2887953,
          12.0131543,
          12.4816978,
          4.9795999,
          6.4550575,
          -19.0534159,
          60.3943055,
          59.46824785,
          60.797934,
          68.28988385,
          59.1898833,
          17.0174945,
          24.3445577,
          24.8546842,
          7.343275,
          8.9495435,
          9.3553005,
          9.25787575,
          -5.5562921,
          -6.7301976,
          -5.212038,
          -4.1984592,
          -3.5542197,
          -12.0522626,
          -15.5689517,
          -5.0851637,
          13.7558718,
          8.4756417,
          10.2931062,
          7.0648306,
          12.7231238,
          14.5906346,
          54.3482907,
          54.52333035,
          53.827032849999995,
          41.1864507,
          38.7077507,
          38.5241783,
          37.956549,
          25.2856329,
          44.1767161,
          44.2464231,
          64.543022,
          60.366665,
          43.1150678,
          55.172081,
          -15.96545515,
          17.2960919,
          17.1393977,
          14.0095966,
          13.9819626,
          13.7277133,
          13.1561864,
          -13.8344639,
          0.3389242,
          26.4367824,
          27.0006968,
          21.5810088,
          24.0889015,
          14.693425,
          -4.6232085,
          8.479004,
          8.586721,
          1.2899175,
          45.5479864,
          -9.4310769,
          -9.10155905,
          10.4386215,
          -0.3602433,
          -33.928992,
          -29.861825,
          -33.9618359,
          -28.7707857,
          -33.0347222,
          -54.2806481,
          43.2630018,
          41.3828939,
          37.6019353,
          41.1172364,
          39.4697065,
          6.9388614,
          19.619217,
          5.8247628,
          5.7710604,
          58.36987925,
          57.7072326,
          56.0442098,
          56.1701723,
          65.5831187,
          55.6052931,
          59.3251172,
          55.37592,
          57.6379361,
          35.1820319,
          35.5200185,
          34.8936225,
          22.6203348,
          23.982074,
          24.163162,
          -6.8160837,
          -6.1664908,
          13.7524938,
          13.0883664,
          12.7136499,
          13.1655011,
          -8.5536809,
          6.4383064,
          6.130419,
          -21.1343401,
          -18.6515538,
          -19.8054603,
          10.1759283,
          10.3993799,
          10.6572678,
          11.1852893,
          37.2720905,
          33.8878082,
          36.767891,
          34.7394361,
          35.464645250000004,
          21.498342,
          21.467964000000002,
          21.8020614,
          -8.5199633,
          46.3020943,
          47.0957648,
          46.9758615,
          46.4843023,
          46.6225029,
          51.1251275,
          51.9639098,
          53.6159963,
          53.4071991,
          51.5074456,
          50.9025349,
          32.7884363,
          36.9507552,
          34.0536909,
          37.8044557,
          -34.9058916,
          -17.6739005,
          -15.156341050000002,
          -17.7414972,
          10.6000384,
          10.6498095,
          10.4677932,
          11.6175102,
          16.068,
          20.858864,
          14.1752316,
          13.7696017,
          12.789585,
          14.7978677,
          14.5424624
         ],
         "lon": [
          19.456792561190838,
          20.0065258,
          19.5989755,
          19.4912716,
          3.0601882,
          7.7549272,
          -0.313678,
          5.0643687,
          5.771494,
          0.089978,
          -0.6502981,
          6.907485,
          12.1919468,
          13.5464318,
          13.2439512,
          12.1458085,
          -63.0936881,
          -63.09481509732498,
          -61.8448509,
          -62.2654871,
          -58.38153,
          -57.9537638,
          -65.029141,
          -68.3073246,
          138.5999312,
          130.8410469,
          115.7586172,
          144.3598241,
          145.7721854,
          151.256132,
          147.3281233,
          151.7812534,
          150.90148269117583,
          151.2082848,
          50.6080741,
          50.63202324367202,
          91.7916684424502,
          -59.6184184,
          2.919496,
          3.207561,
          -88.1988737,
          -88.4311652,
          2.4252507,
          -64.7853167,
          -64.83692450305813,
          -64.676717,
          -48.4682453,
          -48.6552979,
          -48.5226695,
          -52.0991297,
          -43.2093727,
          -46.3286399,
          -45.4070527,
          -49.014132,
          72.47181546315355,
          115.0702263,
          27.4721276,
          97.6284825,
          92.9,
          -25.0028882,
          -63.5859487,
          -123.113952,
          -79.79313999026272,
          -81.3807776,
          -73.1561953,
          -71.2207947,
          -72.9766787,
          -71.6132377,
          -71.07679,
          -71.6196749,
          121.6282945,
          121.6203873,
          120.3192081,
          119.5894129,
          121.4691024,
          114.0545429,
          117.1913008,
          118.0853479,
          -74.1950916,
          43.2543044,
          -159.7894541,
          -4.016107,
          -6.641549,
          17.4360676,
          14.442208,
          15.898446229373526,
          16.4399659,
          -75.7400107,
          -80.4530775,
          -75.2034783,
          -82.3589631,
          -81.5783032,
          -82.7543784,
          -75.8294928,
          33.0332657,
          33.3188405,
          12.5700724,
          9.7562169,
          11.0993619,
          43.1472724,
          -61.455588,
          -61.3872868,
          -70.0169002,
          -70.6926181,
          -69.942111,
          -79.6523847,
          -80.7197902,
          -79.4880863,
          31.8213657,
          29.803190164107754,
          32.305505,
          -87.82335059458408,
          9.7720137,
          8.5544476,
          8.7740663,
          42.7444596,
          39.4636974,
          23.3649261480627,
          26.52922221361245,
          26.626478890973523,
          27.7625564,
          24.7453688,
          -6.8155938,
          -6.768,
          -6.8071921,
          177.4530138,
          178.8333993,
          178.4421662,
          24.9427473,
          26.9450844,
          22.0291149,
          25.6604862,
          24.4709593,
          21.5039401,
          -4.4860088,
          1.8538446,
          2.3772525,
          0.1079732,
          9.4418849,
          9.4952738,
          8.7787919,
          41.6748028,
          10.135555,
          9.1395423,
          7.2058304,
          10.000654,
          8.106301,
          -1.7519316,
          -0.0096592,
          -5.3541295,
          23.5888352,
          23.36582411693201,
          23.6470593,
          22.9352716,
          -53.6664816,
          -61.751805,
          -90.79106807537451,
          -88.6118496,
          -2.1929982,
          -2.5389979,
          -13.6998434,
          -14.5833317,
          -15.583055,
          -14.994788,
          -16.1648911,
          -15.2196439,
          -58.1624465,
          -72.2008068,
          -72.6884336,
          -72.5375127,
          -72.3395928,
          -86.7917749,
          -87.9426681,
          -87.448706,
          -87.4514026,
          -21.7841266,
          -21.9575664,
          -21.9422367,
          80.270186,
          76.0696792,
          88.3638953,
          72.82810491917377,
          69.8432372,
          114.5925828,
          114.4500022,
          106.1541722,
          104.7568507,
          129.77721626689038,
          106.87079323031739,
          56.2781423,
          49.0565038,
          -6.2605593,
          -4.4779021,
          -4.3825005,
          34.64891361423561,
          34.9497949,
          34.9198258,
          34.989571715728204,
          15.2196575,
          9.113311,
          8.9338624,
          10.3091256,
          17.2432278,
          13.7772781,
          12.3345898,
          -76.7928128,
          -77.9217357,
          -76.4459288,
          -77.1297726,
          -77.60383704518811,
          -77.259905,
          140.118126,
          139.7028012,
          135.1943764,
          132.48339581250002,
          130.958284,
          136.8998438,
          135.5014539,
          139.762221,
          141.6055453,
          139.6367727,
          -2.0317647,
          -2.1704668,
          -2.1102277,
          35.0075433,
          34.7541761,
          39.667169,
          129.8206615,
          125.7140086,
          127.66759397972874,
          125.4115285,
          125.6460599,
          127.4284243,
          129.0752365,
          126.7052,
          126.7369036,
          126.3847547,
          129.3429384,
          129.3119136,
          127.659859,
          48.13208525083953,
          24.1051846,
          21.5635991,
          35.47843,
          35.8348551,
          -10.0494002,
          -10.797788,
          13.1777923,
          21.1350469,
          49.2913394,
          46.3172577,
          49.4098352,
          43.66966,
          113.0472803,
          103.7495586,
          101.3966735,
          103.5542256499273,
          73.5107387,
          14.5136759,
          167.73928221221212,
          171.3816354,
          -17.0503094,
          -15.931148157832908,
          57.5028044,
          -97.9362975,
          -94.4501731,
          -109.7300636,
          -104.3159957,
          -96.1383572,
          19.0954528,
          -62.2043538,
          -62.21297521207251,
          -15.9431274,
          -9.5838532,
          -7.6200284,
          -8.626700788089835,
          -13.1953921,
          -7.3893292,
          -9.239533,
          -5.8033522,
          34.841782,
          32.56745,
          40.6863816,
          15.157266,
          14.5071125,
          166.93099117731373,
          4.6111981,
          3.5697992,
          174.7631803,
          172.7205727,
          174.4881785,
          176.167505,
          174.7772114,
          -83.764907,
          -87.1742553,
          8.3373597,
          3.3941795,
          -169.919199,
          5.3259192,
          5.082761213563481,
          5.011611,
          17.086538711321808,
          11.1312583,
          54.1010923,
          56.7424766,
          67.0207055,
          134.4766767,
          -79.5529019,
          -79.8974085,
          -79.90718718702487,
          150.1529513,
          147.0008109,
          145.8054231,
          152.1728287,
          143.6270904,
          -77.1391133,
          -74.0467812,
          -81.1136793,
          121.0584755,
          124.6421532,
          123.9020773,
          125.6080623,
          123.9217883,
          120.9799964,
          18.6540233,
          18.604027892041863,
          14.335691469388852,
          -8.6961588,
          -9.1365919,
          -8.8932341,
          -8.8689639,
          51.5264162,
          28.6507598,
          28.4628974,
          40.537121,
          28.616673,
          131.8855768,
          124.898933,
          -5.702575637953244,
          -62.722301,
          -62.6216154,
          -60.9902359,
          -60.9980464,
          -60.9527504,
          -61.2279621,
          -171.7649144,
          6.7313031,
          50.1039991,
          49.6532161,
          39.1653612,
          38.0666798,
          -17.447938,
          55.452359,
          -13.26795,
          -13.055305,
          103.8519072,
          13.7304781,
          159.9552552,
          160.14657566666668,
          45.0134007,
          42.5409025,
          18.417396,
          31.009909,
          25.6186512,
          32.0577775,
          18.0097222,
          -36.5098,
          -2.9350039,
          2.1774322,
          -0.9841152,
          1.2546057,
          -0.3763353,
          79.8542005,
          37.211709,
          -55.1703941,
          -56.6876895,
          11.428145707579569,
          11.9670171,
          12.703706,
          14.8631279,
          22.1459535,
          13.0001566,
          18.0710935,
          13.1461522,
          18.297982,
          35.9449068,
          35.7781044,
          35.885167,
          120.3120375,
          121.60681,
          120.6478282,
          39.2803583,
          39.2074312,
          100.4935089,
          100.9180778,
          101.1679092,
          100.9256709,
          125.5784093,
          1.179404,
          1.215829,
          -175.201808,
          -173.9833124,
          -174.3489373,
          -61.6827286,
          -61.4828808,
          -61.5180173,
          -60.735024,
          9.8708565,
          10.10044,
          10.2724617,
          10.7604024,
          8.89823233310821,
          -71.5296449,
          -71.13872175290959,
          -72.30044556984475,
          179.1982548,
          30.653466,
          37.5499621,
          31.9939666,
          30.7322878,
          31.0994897,
          1.3134228,
          1.3515106,
          -0.2136727,
          -2.99168,
          -0.1277653,
          -1.404189,
          -79.9399309,
          -76.41141865690076,
          -118.242766,
          -122.271356,
          -56.1913095,
          168.3648386132254,
          167.05107047173001,
          168.3150163,
          -66.9296405,
          -71.6443596,
          -68.0436682,
          -70.2116906,
          108.212,
          106.6749591,
          109.0523049,
          109.2314599,
          45.028504,
          42.9544872,
          49.1231345
         ],
         "marker": {
          "color": "red",
          "line": {
           "color": "rgba(68, 68, 68, 0)",
           "width": 0.5
          },
          "size": 5
         },
         "mode": "markers",
         "text": [
          "Durres",
          " Sarande",
          " Shengjin",
          " Vlore",
          "Algiers",
          " Annaba",
          " Arzew",
          " Bejaia",
          " Jijel",
          " Mostaganem",
          " Oran",
          " Skikda",
          "Cabinda",
          " Lobito",
          " Luanda",
          " Namibe",
          "Blowing Point",
          " Road Bay",
          "Saint John's",
          "Bahia Blanca",
          " Buenos Aires",
          " La Plata",
          " Punta Colorada",
          " Ushuaia",
          "Adelaide",
          " Darwin",
          " Fremantle",
          " Geelong",
          " Cairns",
          " Gladstone",
          " Hobart",
          " Newcastle",
          " Port Port Kembla",
          " Sydney",
          "Mina' Salman",
          " Sitrah",
          "Chattogram (Chittagong)",
          "Bridgetown",
          "Oostende",
          " Zeebrugge",
          "Belize City",
          " Big Creek",
          "Cotonou",
          "Hamilton",
          " Ireland Island",
          " Saint George",
          "Belem",
          " Itajai",
          " Paranagua",
          " Rio Grande",
          " Rio de Janeiro",
          " Santos",
          " Sao Sebastiao",
          " Tubarao",
          "Diego Garcia",
          "Muara",
          "Burgas",
          "Mawlamyine (Moulmein)",
          " Sittwe",
          "Porto Grande",
          "Halifax",
          " Vancouver",
          "Cayman Brac",
          " George Town",
          "Coronel",
          " Huasco",
          " Lirquen",
          " San Antonio",
          " San Vicente",
          " Valparaiso",
          "Dalian",
          " Ningbo",
          " Qingdao",
          " Qinhuangdao",
          " Shanghai",
          " Shenzhen",
          " Tianjin",
          " Xiamen",
          " Santa Marta",
          "Moroni",
          "Avatiu",
          "Abidjan",
          " San-Pedro",
          "Ploce",
          " Rijeka",
          " Sibenik",
          " Split",
          "Antilla",
          " Cienfuegos",
          " Guantanamo",
          " Havana",
          " Matanzas",
          " Mariel",
          " Santiago de Cuba",
          " Limassol",
          " Kyrenia",
          " Copenhagen",
          " Fredericia",
          " Kalundborg",
          "Djibouti",
          "Portsmouth",
          " Roseau",
          "Puerto Haina",
          " Puerto Plata",
          " Santo Domingo",
          "Esmeraldas",
          " Manta",
          " Puerto Bolivar",
          " Damietta",
          " El Dekheila",
          " Port Said",
          "Puerto Cutuco",
          "Bata",
          " Luba",
          " Malabo",
          "Assab",
          " Massawa",
          "Kuivastu",
          " Kunda",
          " Muuga",
          " Sillamae",
          " Tallinn",
          "Fuglafjordur",
          " Torshavn",
          " Vagur",
          "Lautoka",
          " Levuka",
          " Suva",
          "Helsinki",
          " Kotka",
          " Naantali",
          " Porvoo",
          " Raahe",
          " Rauma",
          "Brest",
          " Calais",
          " Dunkerque",
          " Le Havre",
          "Libreville",
          " Owendo",
          " Port-Gentil",
          " Poti",
          "Kiel",
          " Brunsbuttel",
          " Emden",
          " Hamburg",
          " Wilhelmshaven",
          "Takoradi",
          " Tema",
          "Gibraltar",
          "Aspropyrgos",
          " Pachi",
          " Piraeus",
          " Thessaloniki",
          "Sisimiut",
          "Saint George's",
          "Puerto Quetzal",
          " Santo Tomas de Castilla",
          "Braye Bay",
          " Saint Peter Port",
          "Conakry",
          " Kamsar",
          "Bissau",
          " Buba",
          " Cacheu",
          " Farim",
          "Georgetown",
          "Cap-Haitien",
          " Gonaives",
          " Jacmel",
          " Port-au-Prince",
          "La Ceiba",
          " Puerto Cortes",
          " San Lorenzo",
          " Tela",
          "Grundartangi",
          " Hafnarfjordur",
          " Reykjavik",
          "Chennai",
          " Kandla",
          " Kolkata (Calcutta)",
          " Mumbai (Bombay)",
          " Sikka",
          "Banjarmasin",
          " Belawan",
          " Kotabaru",
          " Palembang",
          " Panjang",
          " Tanjung Priok",
          " Bandar Abbas",
          " Bandar-e Emam Khomeyni",
          "Dublin",
          "Douglas",
          " Ramsey",
          "Ashdod",
          " Elat (Eilat)",
          " Hadera",
          " Haifa",
          "Augusta",
          " Cagliari",
          " Genoa",
          " Livorno",
          " Taranto",
          " Trieste",
          " Venice",
          " Kingston",
          " Montego Bay",
          " Port Antonio",
          " Port Esquivel",
          " Port Kaiser",
          " Rocky Point",
          "Chiba",
          " Kawasaki",
          " Kobe",
          " Mizushima",
          " Moji",
          " Nagoya",
          " Osaka",
          " Tokyo",
          " Tomakomai",
          " Yokohama",
          "Gorey",
          " Saint Aubin",
          " Saint Helier",
          "Al 'Aqabah",
          "Kisumu",
          " Mombasa",
          "Ch'ongjin",
          " Haeju",
          " Hungnam",
          " Namp'o",
          " Songnim",
          " Wonsan",
          "Busan",
          " Incheon",
          " Gunsan",
          " Mokpo",
          " Pohang",
          " Ulsan",
          " Yeosu",
          " Mina' al Ahmadi",
          "Riga",
          " Ventspils",
          "Beirut",
          " Tripoli",
          "Buchanan",
          " Monrovia",
          " Tripoli",
          "Klaipeda",
          "Antsiranana (Diego Suarez)",
          " Mahajanga",
          " Toamasina",
          " Toliara (Tulear)",
          "Bintulu",
          " Johor Bahru",
          " Pelabuhan Klang (Port Klang)",
          " Tanjung Pelepas",
          "Male",
          " Valletta",
          " Kwajalein",
          " Majuro",
          "Nouadhibou",
          " Nouakchott",
          "Port Louis",
          "Altamira",
          " Coatzacoalcos",
          " Lazaro Cardenas",
          " Manzanillo",
          " Veracruz",
          "Bar",
          "Little Bay",
          " Plymouth",
          "Ad Dakhla",
          " Agadir",
          " Casablanca",
          " Jorf Lasfar",
          " Laayoune (El Aaiun)",
          " Mohammedia",
          " Safi",
          " Tangier",
          "Beira",
          " Maputo",
          " Nacala",
          "Luderitz",
          " Walvis Bay",
          "Nauru",
          "IJmuiden",
          " Vlissingen",
          "Auckland",
          " Lyttelton",
          " Marsden Point",
          " Tauranga",
          " Wellington",
          "Bluefields",
          " Corinto",
          " Calabar",
          " Lagos",
          "Alofi",
          "Bergen",
          " Haugesund",
          " Mongstad",
          " Narvik",
          " Sture",
          " Salalah",
          " Suhar",
          "Karachi",
          "Koror",
          "Balboa",
          " Colon",
          " Cristobal",
          "Kimbe",
          " Lae",
          " Madang",
          " Rabaul",
          " Wewak",
          "Callao",
          " Matarani",
          " Paita",
          "Batangas",
          " Cagayan de Oro",
          " Cebu",
          " Davao",
          " Liman",
          " Manila",
          "Gdansk",
          " Gdynia",
          " Swinoujscie",
          "Leixoes",
          " Lisbon",
          " Setubal",
          " Sines",
          "Doha",
          "Constanta",
          " Midia",
          "Arkhangelsk",
          " Primorsk",
          " Vladivostok",
          " Vostochnyy",
          "Saint Helena",
          "Basseterre",
          " Charlestown",
          "Castries",
          " Cul-de-Sac",
          " Vieux-Fort",
          "Kingstown",
          "Apia",
          "Sao Tome",
          "Ad Dammam",
          " Al Jubayl",
          " Jeddah",
          " Yanbu'",
          "Dakar",
          "Victoria",
          "Freetown",
          " Pepel",
          "Singapore",
          "Koper",
          "Honiara",
          " Tulagi",
          "Berbera",
          " Kismaayo",
          "Cape Town",
          " Durban",
          " Port Elizabeth",
          " Richards Bay",
          " Saldanha Bay",
          "Grytviken",
          "Bilbao",
          " Barcelona",
          " Cartagena",
          " Tarragona",
          " Valencia",
          "Colombo",
          "Port Sudan",
          "Paramaribo",
          " Wageningen",
          "Brofjorden",
          " Goteborg",
          " Helsingborg",
          " Karlshamn",
          " Lulea",
          " Malmo",
          " Stockholm",
          " Trelleborg",
          " Visby",
          "Baniyas",
          " Latakia",
          " Tartus",
          " Kaohsiung",
          " Hualian",
          " Taichung",
          "Dar es Salaam",
          " Zanzibar",
          "Bangkok",
          " Laem Chabang",
          " Map Ta Phut",
          " Si Racha",
          "Dili",
          "Kpeme",
          " Lome",
          "Nuku'alofa",
          " Neiafu",
          " Pangai",
          "Point Fortin",
          " Point Lisas",
          " Port of Spain",
          " Scarborough",
          "Bizerte",
          " Gabes",
          " Rades",
          " Sfax",
          " Skhira",
          "Cockburn Harbour",
          " Grand Turk",
          " Providenciales",
          "Funafuti",
          " Chornomorsk",
          " Mariupol",
          " Mykolaiv",
          " Odesa",
          " Yuzhne",
          "Dover",
          " Felixstowe",
          " Immingham",
          " Liverpool",
          " London",
          " Southampton",
          "Charleston",
          " Hampton Roads",
          " Los Angeles",
          " Oakland",
          "Montevideo",
          " Luganville (Santo",
          " Espiritu Santo)",
          " Port-Vila",
          "La Guaira",
          " Maracaibo",
          " Puerto Cabello",
          " Punta Cardon",
          " Da Nang",
          " Haiphong",
          " Phu My",
          " Quy Nhon",
          "Aden",
          " Al Hudaydah",
          " Al Mukalla"
         ],
         "type": "scattergeo"
        }
       ],
       "layout": {
        "geo": {
         "countrycolor": "rgb(204, 204, 204)",
         "landcolor": "rgb(243, 243, 243)",
         "projection": {
          "type": "natural earth"
         },
         "scope": "world",
         "showland": true
        },
        "template": {
         "data": {
          "bar": [
           {
            "error_x": {
             "color": "#2a3f5f"
            },
            "error_y": {
             "color": "#2a3f5f"
            },
            "marker": {
             "line": {
              "color": "#E5ECF6",
              "width": 0.5
             },
             "pattern": {
              "fillmode": "overlay",
              "size": 10,
              "solidity": 0.2
             }
            },
            "type": "bar"
           }
          ],
          "barpolar": [
           {
            "marker": {
             "line": {
              "color": "#E5ECF6",
              "width": 0.5
             },
             "pattern": {
              "fillmode": "overlay",
              "size": 10,
              "solidity": 0.2
             }
            },
            "type": "barpolar"
           }
          ],
          "carpet": [
           {
            "aaxis": {
             "endlinecolor": "#2a3f5f",
             "gridcolor": "white",
             "linecolor": "white",
             "minorgridcolor": "white",
             "startlinecolor": "#2a3f5f"
            },
            "baxis": {
             "endlinecolor": "#2a3f5f",
             "gridcolor": "white",
             "linecolor": "white",
             "minorgridcolor": "white",
             "startlinecolor": "#2a3f5f"
            },
            "type": "carpet"
           }
          ],
          "choropleth": [
           {
            "colorbar": {
             "outlinewidth": 0,
             "ticks": ""
            },
            "type": "choropleth"
           }
          ],
          "contour": [
           {
            "colorbar": {
             "outlinewidth": 0,
             "ticks": ""
            },
            "colorscale": [
             [
              0,
              "#0d0887"
             ],
             [
              0.1111111111111111,
              "#46039f"
             ],
             [
              0.2222222222222222,
              "#7201a8"
             ],
             [
              0.3333333333333333,
              "#9c179e"
             ],
             [
              0.4444444444444444,
              "#bd3786"
             ],
             [
              0.5555555555555556,
              "#d8576b"
             ],
             [
              0.6666666666666666,
              "#ed7953"
             ],
             [
              0.7777777777777778,
              "#fb9f3a"
             ],
             [
              0.8888888888888888,
              "#fdca26"
             ],
             [
              1,
              "#f0f921"
             ]
            ],
            "type": "contour"
           }
          ],
          "contourcarpet": [
           {
            "colorbar": {
             "outlinewidth": 0,
             "ticks": ""
            },
            "type": "contourcarpet"
           }
          ],
          "heatmap": [
           {
            "colorbar": {
             "outlinewidth": 0,
             "ticks": ""
            },
            "colorscale": [
             [
              0,
              "#0d0887"
             ],
             [
              0.1111111111111111,
              "#46039f"
             ],
             [
              0.2222222222222222,
              "#7201a8"
             ],
             [
              0.3333333333333333,
              "#9c179e"
             ],
             [
              0.4444444444444444,
              "#bd3786"
             ],
             [
              0.5555555555555556,
              "#d8576b"
             ],
             [
              0.6666666666666666,
              "#ed7953"
             ],
             [
              0.7777777777777778,
              "#fb9f3a"
             ],
             [
              0.8888888888888888,
              "#fdca26"
             ],
             [
              1,
              "#f0f921"
             ]
            ],
            "type": "heatmap"
           }
          ],
          "heatmapgl": [
           {
            "colorbar": {
             "outlinewidth": 0,
             "ticks": ""
            },
            "colorscale": [
             [
              0,
              "#0d0887"
             ],
             [
              0.1111111111111111,
              "#46039f"
             ],
             [
              0.2222222222222222,
              "#7201a8"
             ],
             [
              0.3333333333333333,
              "#9c179e"
             ],
             [
              0.4444444444444444,
              "#bd3786"
             ],
             [
              0.5555555555555556,
              "#d8576b"
             ],
             [
              0.6666666666666666,
              "#ed7953"
             ],
             [
              0.7777777777777778,
              "#fb9f3a"
             ],
             [
              0.8888888888888888,
              "#fdca26"
             ],
             [
              1,
              "#f0f921"
             ]
            ],
            "type": "heatmapgl"
           }
          ],
          "histogram": [
           {
            "marker": {
             "pattern": {
              "fillmode": "overlay",
              "size": 10,
              "solidity": 0.2
             }
            },
            "type": "histogram"
           }
          ],
          "histogram2d": [
           {
            "colorbar": {
             "outlinewidth": 0,
             "ticks": ""
            },
            "colorscale": [
             [
              0,
              "#0d0887"
             ],
             [
              0.1111111111111111,
              "#46039f"
             ],
             [
              0.2222222222222222,
              "#7201a8"
             ],
             [
              0.3333333333333333,
              "#9c179e"
             ],
             [
              0.4444444444444444,
              "#bd3786"
             ],
             [
              0.5555555555555556,
              "#d8576b"
             ],
             [
              0.6666666666666666,
              "#ed7953"
             ],
             [
              0.7777777777777778,
              "#fb9f3a"
             ],
             [
              0.8888888888888888,
              "#fdca26"
             ],
             [
              1,
              "#f0f921"
             ]
            ],
            "type": "histogram2d"
           }
          ],
          "histogram2dcontour": [
           {
            "colorbar": {
             "outlinewidth": 0,
             "ticks": ""
            },
            "colorscale": [
             [
              0,
              "#0d0887"
             ],
             [
              0.1111111111111111,
              "#46039f"
             ],
             [
              0.2222222222222222,
              "#7201a8"
             ],
             [
              0.3333333333333333,
              "#9c179e"
             ],
             [
              0.4444444444444444,
              "#bd3786"
             ],
             [
              0.5555555555555556,
              "#d8576b"
             ],
             [
              0.6666666666666666,
              "#ed7953"
             ],
             [
              0.7777777777777778,
              "#fb9f3a"
             ],
             [
              0.8888888888888888,
              "#fdca26"
             ],
             [
              1,
              "#f0f921"
             ]
            ],
            "type": "histogram2dcontour"
           }
          ],
          "mesh3d": [
           {
            "colorbar": {
             "outlinewidth": 0,
             "ticks": ""
            },
            "type": "mesh3d"
           }
          ],
          "parcoords": [
           {
            "line": {
             "colorbar": {
              "outlinewidth": 0,
              "ticks": ""
             }
            },
            "type": "parcoords"
           }
          ],
          "pie": [
           {
            "automargin": true,
            "type": "pie"
           }
          ],
          "scatter": [
           {
            "fillpattern": {
             "fillmode": "overlay",
             "size": 10,
             "solidity": 0.2
            },
            "type": "scatter"
           }
          ],
          "scatter3d": [
           {
            "line": {
             "colorbar": {
              "outlinewidth": 0,
              "ticks": ""
             }
            },
            "marker": {
             "colorbar": {
              "outlinewidth": 0,
              "ticks": ""
             }
            },
            "type": "scatter3d"
           }
          ],
          "scattercarpet": [
           {
            "marker": {
             "colorbar": {
              "outlinewidth": 0,
              "ticks": ""
             }
            },
            "type": "scattercarpet"
           }
          ],
          "scattergeo": [
           {
            "marker": {
             "colorbar": {
              "outlinewidth": 0,
              "ticks": ""
             }
            },
            "type": "scattergeo"
           }
          ],
          "scattergl": [
           {
            "marker": {
             "colorbar": {
              "outlinewidth": 0,
              "ticks": ""
             }
            },
            "type": "scattergl"
           }
          ],
          "scattermapbox": [
           {
            "marker": {
             "colorbar": {
              "outlinewidth": 0,
              "ticks": ""
             }
            },
            "type": "scattermapbox"
           }
          ],
          "scatterpolar": [
           {
            "marker": {
             "colorbar": {
              "outlinewidth": 0,
              "ticks": ""
             }
            },
            "type": "scatterpolar"
           }
          ],
          "scatterpolargl": [
           {
            "marker": {
             "colorbar": {
              "outlinewidth": 0,
              "ticks": ""
             }
            },
            "type": "scatterpolargl"
           }
          ],
          "scatterternary": [
           {
            "marker": {
             "colorbar": {
              "outlinewidth": 0,
              "ticks": ""
             }
            },
            "type": "scatterternary"
           }
          ],
          "surface": [
           {
            "colorbar": {
             "outlinewidth": 0,
             "ticks": ""
            },
            "colorscale": [
             [
              0,
              "#0d0887"
             ],
             [
              0.1111111111111111,
              "#46039f"
             ],
             [
              0.2222222222222222,
              "#7201a8"
             ],
             [
              0.3333333333333333,
              "#9c179e"
             ],
             [
              0.4444444444444444,
              "#bd3786"
             ],
             [
              0.5555555555555556,
              "#d8576b"
             ],
             [
              0.6666666666666666,
              "#ed7953"
             ],
             [
              0.7777777777777778,
              "#fb9f3a"
             ],
             [
              0.8888888888888888,
              "#fdca26"
             ],
             [
              1,
              "#f0f921"
             ]
            ],
            "type": "surface"
           }
          ],
          "table": [
           {
            "cells": {
             "fill": {
              "color": "#EBF0F8"
             },
             "line": {
              "color": "white"
             }
            },
            "header": {
             "fill": {
              "color": "#C8D4E3"
             },
             "line": {
              "color": "white"
             }
            },
            "type": "table"
           }
          ]
         },
         "layout": {
          "annotationdefaults": {
           "arrowcolor": "#2a3f5f",
           "arrowhead": 0,
           "arrowwidth": 1
          },
          "autotypenumbers": "strict",
          "coloraxis": {
           "colorbar": {
            "outlinewidth": 0,
            "ticks": ""
           }
          },
          "colorscale": {
           "diverging": [
            [
             0,
             "#8e0152"
            ],
            [
             0.1,
             "#c51b7d"
            ],
            [
             0.2,
             "#de77ae"
            ],
            [
             0.3,
             "#f1b6da"
            ],
            [
             0.4,
             "#fde0ef"
            ],
            [
             0.5,
             "#f7f7f7"
            ],
            [
             0.6,
             "#e6f5d0"
            ],
            [
             0.7,
             "#b8e186"
            ],
            [
             0.8,
             "#7fbc41"
            ],
            [
             0.9,
             "#4d9221"
            ],
            [
             1,
             "#276419"
            ]
           ],
           "sequential": [
            [
             0,
             "#0d0887"
            ],
            [
             0.1111111111111111,
             "#46039f"
            ],
            [
             0.2222222222222222,
             "#7201a8"
            ],
            [
             0.3333333333333333,
             "#9c179e"
            ],
            [
             0.4444444444444444,
             "#bd3786"
            ],
            [
             0.5555555555555556,
             "#d8576b"
            ],
            [
             0.6666666666666666,
             "#ed7953"
            ],
            [
             0.7777777777777778,
             "#fb9f3a"
            ],
            [
             0.8888888888888888,
             "#fdca26"
            ],
            [
             1,
             "#f0f921"
            ]
           ],
           "sequentialminus": [
            [
             0,
             "#0d0887"
            ],
            [
             0.1111111111111111,
             "#46039f"
            ],
            [
             0.2222222222222222,
             "#7201a8"
            ],
            [
             0.3333333333333333,
             "#9c179e"
            ],
            [
             0.4444444444444444,
             "#bd3786"
            ],
            [
             0.5555555555555556,
             "#d8576b"
            ],
            [
             0.6666666666666666,
             "#ed7953"
            ],
            [
             0.7777777777777778,
             "#fb9f3a"
            ],
            [
             0.8888888888888888,
             "#fdca26"
            ],
            [
             1,
             "#f0f921"
            ]
           ]
          },
          "colorway": [
           "#636efa",
           "#EF553B",
           "#00cc96",
           "#ab63fa",
           "#FFA15A",
           "#19d3f3",
           "#FF6692",
           "#B6E880",
           "#FF97FF",
           "#FECB52"
          ],
          "font": {
           "color": "#2a3f5f"
          },
          "geo": {
           "bgcolor": "white",
           "lakecolor": "white",
           "landcolor": "#E5ECF6",
           "showlakes": true,
           "showland": true,
           "subunitcolor": "white"
          },
          "hoverlabel": {
           "align": "left"
          },
          "hovermode": "closest",
          "mapbox": {
           "style": "light"
          },
          "paper_bgcolor": "white",
          "plot_bgcolor": "#E5ECF6",
          "polar": {
           "angularaxis": {
            "gridcolor": "white",
            "linecolor": "white",
            "ticks": ""
           },
           "bgcolor": "#E5ECF6",
           "radialaxis": {
            "gridcolor": "white",
            "linecolor": "white",
            "ticks": ""
           }
          },
          "scene": {
           "xaxis": {
            "backgroundcolor": "#E5ECF6",
            "gridcolor": "white",
            "gridwidth": 2,
            "linecolor": "white",
            "showbackground": true,
            "ticks": "",
            "zerolinecolor": "white"
           },
           "yaxis": {
            "backgroundcolor": "#E5ECF6",
            "gridcolor": "white",
            "gridwidth": 2,
            "linecolor": "white",
            "showbackground": true,
            "ticks": "",
            "zerolinecolor": "white"
           },
           "zaxis": {
            "backgroundcolor": "#E5ECF6",
            "gridcolor": "white",
            "gridwidth": 2,
            "linecolor": "white",
            "showbackground": true,
            "ticks": "",
            "zerolinecolor": "white"
           }
          },
          "shapedefaults": {
           "line": {
            "color": "#2a3f5f"
           }
          },
          "ternary": {
           "aaxis": {
            "gridcolor": "white",
            "linecolor": "white",
            "ticks": ""
           },
           "baxis": {
            "gridcolor": "white",
            "linecolor": "white",
            "ticks": ""
           },
           "bgcolor": "#E5ECF6",
           "caxis": {
            "gridcolor": "white",
            "linecolor": "white",
            "ticks": ""
           }
          },
          "title": {
           "x": 0.05
          },
          "xaxis": {
           "automargin": true,
           "gridcolor": "white",
           "linecolor": "white",
           "ticks": "",
           "title": {
            "standoff": 15
           },
           "zerolinecolor": "white",
           "zerolinewidth": 2
          },
          "yaxis": {
           "automargin": true,
           "gridcolor": "white",
           "linecolor": "white",
           "ticks": "",
           "title": {
            "standoff": 15
           },
           "zerolinecolor": "white",
           "zerolinewidth": 2
          }
         }
        },
        "title": {
         "text": "World Seaports"
        }
       }
      }
     },
     "metadata": {},
     "output_type": "display_data"
    }
   ],
   "source": [
    "fig = go.Figure(data=go.Scattergeo(\n",
    "    lon = longitudes,\n",
    "    lat = latitudes,\n",
    "    text = seaport_names, \n",
    "    mode = 'markers',\n",
    "    marker = dict(\n",
    "        size = 5,\n",
    "        color = 'red',\n",
    "        line = dict(\n",
    "            width = 0.5,\n",
    "            color = 'rgba(68, 68, 68, 0)'\n",
    "        )\n",
    "    )\n",
    "))\n",
    "\n",
    "fig.update_layout(\n",
    "    title = 'World Seaports',\n",
    "    geo = dict(\n",
    "        scope = 'world',\n",
    "        projection_type = 'natural earth',\n",
    "        showland = True,\n",
    "        landcolor = 'rgb(243, 243, 243)',\n",
    "        countrycolor = 'rgb(204, 204, 204)',\n",
    "    ),\n",
    ")\n",
    "\n",
    "fig.show()"
   ]
  },
  {
   "cell_type": "code",
   "execution_count": 137,
   "id": "b3fc01b8",
   "metadata": {},
   "outputs": [
    {
     "data": {
      "image/png": "[encoded data removed]",
      "text/plain": [
       "<Figure size 1500x1000 with 1 Axes>"
      ]
     },
     "metadata": {},
     "output_type": "display_data"
    }
   ],
   "source": [
    "df = pd.DataFrame({\n",
    "    'Seaport': seaport_names,\n",
    "    'Latitude': latitudes,\n",
    "    'Longitude': longitudes\n",
    "})\n",
    "\n",
    "gdf = gpd.GeoDataFrame(df, geometry=gpd.points_from_xy(df.Longitude, df.Latitude))\n",
    "gdf.crs = 'EPSG:4326'\n",
    "world = gpd.read_file(gpd.datasets.get_path('naturalearth_lowres'))\n",
    "fig, ax = plt.subplots(1, 1, figsize=(15, 10)) \n",
    "\n",
    "world.plot(ax=ax, color='lightgrey', edgecolor='black')\n",
    "gdf.plot(ax=ax, marker='o', color='blue', edgecolor='white', markersize=50)\n",
    "\n",
    "# Customize the plot\n",
    "ax.set_title('World Seaports Map', fontsize=20)\n",
    "ax.set_xlabel('Longitude', fontsize=14)\n",
    "ax.set_ylabel('Latitude', fontsize=14)\n",
    "ax.set_axis_on() \n",
    "ax.grid(True) \n",
    "\n",
    "plt.show()\n"
   ]
  },
  {
   "cell_type": "code",
   "execution_count": 14,
   "id": "e21390b0",
   "metadata": {},
   "outputs": [
    {
     "name": "stdout",
     "output_type": "stream",
     "text": [
      "Misplaced Markers: Kandla, Belawan, Vostochnyy\n"
     ]
    }
   ],
   "source": [
    "print(\"Misplaced Markers: Kandla, Belawan, Vostochnyy\")"
   ]
  },
  {
   "cell_type": "markdown",
   "id": "daaf88c8",
   "metadata": {},
   "source": [
    "__(iii)__ Amongst all countries with a major seaport, return the four that have the largest fleet of _bulk carriers_. Amongst all countries with no coastline, return the four that have the largest merchant marine fleet overall. "
   ]
  },
  {
   "cell_type": "code",
   "execution_count": 67,
   "id": "6c019ccd",
   "metadata": {},
   "outputs": [],
   "source": [
    "def get_countries_with_largest_fleet_of_bulk_careers():\n",
    "\n",
    "    bulk_carriers = []\n",
    "\n",
    "    for country, _ in countries.items():\n",
    "        data = info[process_names(country)]\n",
    "        for entry in data['result']['data']['fields']['nodes']:\n",
    "            if entry['name'].strip() == 'Merchant marine':\n",
    "                soup = BeautifulSoup(entry['data'], 'html.parser')\n",
    "                strong_tags = soup.find_all('strong')\n",
    "                for tag in strong_tags:\n",
    "                    if 'by type:' in tag.text:\n",
    "                        next_strong_tag = tag.find_next('strong')\n",
    "                        seaport_data = \"\"\n",
    "                        \n",
    "                        if next_strong_tag:\n",
    "                            for t in tag.next_siblings:\n",
    "                                if(t == next_strong_tag):\n",
    "                                    break\n",
    "                                seaport_data += t.text\n",
    "                        else:\n",
    "                            for t in tag.next_siblings:\n",
    "                                seaport_data += t.text \n",
    "\n",
    "                        pattern = re.compile(r'\\b(\\w+)\\s+\\w* (\\d+(?:,\\d{3})*)')\n",
    "                        matches = pattern.findall(seaport_data)\n",
    "\n",
    "                        if(len(matches) !=  0 and matches[0][0] == 'bulk'):\n",
    "                            count = matches[0][1].replace(',', '')\n",
    "                            count = int(count)\n",
    "                            bulk_carriers.append((count, country))\n",
    "                            break\n",
    "\n",
    "                        break\n",
    "                break\n",
    "                \n",
    "    return bulk_carriers"
   ]
  },
  {
   "cell_type": "code",
   "execution_count": 68,
   "id": "80f8f607",
   "metadata": {},
   "outputs": [],
   "source": [
    "bulk_careers = get_countries_with_largest_fleet_of_bulk_careers()"
   ]
  },
  {
   "cell_type": "code",
   "execution_count": 74,
   "id": "0b9b6ce7",
   "metadata": {},
   "outputs": [
    {
     "name": "stdout",
     "output_type": "stream",
     "text": [
      "Countries with largest fleet of bulk carriers :  [(2732, 'Panama'), (1939, 'Marshall Islands'), (1895, 'Liberia'), (1831, 'China')]\n"
     ]
    }
   ],
   "source": [
    "ans = sorted(bulk_careers, key=lambda x: -x[0])\n",
    "print('Countries with largest fleet of bulk carriers : ', ans[:4])"
   ]
  },
  {
   "cell_type": "code",
   "execution_count": 70,
   "id": "9a70cac5",
   "metadata": {},
   "outputs": [],
   "source": [
    "def get_marine_fleet_of_countries_with_no_coastline():\n",
    "\n",
    "    marine_fleet = []\n",
    "\n",
    "    for country, _ in countries.items():\n",
    "        data = info[process_names(country)]\n",
    "        for entry in data['result']['data']['fields']['nodes']:\n",
    "            if(entry['name'].strip() == 'Coastline'):\n",
    "                if(entry['data'].strip().split(' ')[0][0] == '<' or\n",
    "                   entry['data'].strip().split(' ')[0][0] == 'N'):\n",
    "                    continue\n",
    "                len_of_coastline = int(entry['data'].strip().split(' ')[0][0])\n",
    "                if(len_of_coastline == 0):\n",
    "                    for entry in data['result']['data']['fields']['nodes']:\n",
    "                        if entry['name'].strip() == 'Merchant marine':\n",
    "                            soup = BeautifulSoup(entry['data'], 'html.parser')\n",
    "                            strong_tags = soup.find_all('strong')\n",
    "                            for tag in strong_tags:\n",
    "                                if 'total:' in tag.text:\n",
    "                                    next_strong_tag = tag.find_next('strong')\n",
    "                                    total_data = \"\"\n",
    "                                    \n",
    "                                    if next_strong_tag:\n",
    "                                        for t in tag.next_siblings:\n",
    "                                            if(t == next_strong_tag):\n",
    "                                                break\n",
    "                                            total_data += t.text\n",
    "                                    else:\n",
    "                                        for t in tag.next_siblings:\n",
    "                                            total_data += t.text \n",
    "                                    total_count = int(total_data.strip().split(' ')[0])\n",
    "                                    marine_fleet.append((total_count, country))\n",
    "\n",
    "                                    break\n",
    "                            break\n",
    "                break\n",
    "                \n",
    "    return marine_fleet"
   ]
  },
  {
   "cell_type": "code",
   "execution_count": 71,
   "id": "0eb6f429",
   "metadata": {},
   "outputs": [],
   "source": [
    "marine_fleets = get_marine_fleet_of_countries_with_no_coastline()"
   ]
  },
  {
   "cell_type": "code",
   "execution_count": 73,
   "id": "a0599a54",
   "metadata": {},
   "outputs": [
    {
     "name": "stdout",
     "output_type": "stream",
     "text": [
      "Countries with no coastline and have the largest merchant marine fleet :  [(318, 'Mongolia'), (312, 'Azerbaijan'), (147, 'Luxembourg'), (122, 'Kazakhstan')]\n"
     ]
    }
   ],
   "source": [
    "ans = sorted(marine_fleets, key=lambda x: -x[0])\n",
    "print(\"Countries with no coastline and have the largest merchant marine fleet : \", ans[:4])"
   ]
  },
  {
   "cell_type": "markdown",
   "id": "ba217d38",
   "metadata": {},
   "source": [
    "__(c)__ Now, lets classify whether a country is or has been controlled by the United Kingdom by analyzing the provided background information text. __(i)__ Implement a (very simple!) classification method that performs this task. My function `was_british` correctly identifies the countries of Pakistan and Russia, but incorrectly classifies Spain and the United States. \n",
    "\n",
    "_How many world entities do you find to be current or former parts of the British Empire?_"
   ]
  },
  {
   "cell_type": "code",
   "execution_count": 166,
   "id": "847f88b2",
   "metadata": {},
   "outputs": [],
   "source": [
    "def was_british(country):\n",
    "    data = info.get(process_names(country), '')\n",
    "    if(data == ''):\n",
    "        return False\n",
    "    \n",
    "    background_info = \"\"\n",
    "\n",
    "    for entry in data['result']['data']['fields']['nodes']:\n",
    "        if(entry['name'].strip() == 'Background'):\n",
    "            background_info = entry['data'].strip()\n",
    "            break\n",
    "\n",
    "    keywords = [\"British Empire\", \"British India\", \"under British\", \"Britain's\", 'British Commonwealth', 'British Mandate', 'British colony', 'British']\n",
    "    \n",
    "\n",
    "    if(background_info != \"\"):\n",
    "        for keyword in keywords:\n",
    "            if keyword in background_info:\n",
    "                return True \n",
    "            \n",
    "        return False \n",
    "    return False\n"
   ]
  },
  {
   "cell_type": "code",
   "execution_count": 167,
   "id": "3048ecbb",
   "metadata": {
    "tags": [
     "test"
    ]
   },
   "outputs": [
    {
     "name": "stdout",
     "output_type": "stream",
     "text": [
      "True\n",
      "False\n"
     ]
    }
   ],
   "source": [
    "print(was_british('Pakistan'))\n",
    "print(was_british('Russia'))"
   ]
  },
  {
   "cell_type": "code",
   "execution_count": 168,
   "id": "4a896e20",
   "metadata": {
    "scrolled": false,
    "tags": [
     "test"
    ]
   },
   "outputs": [
    {
     "name": "stdout",
     "output_type": "stream",
     "text": [
      "False\n",
      "True\n"
     ]
    }
   ],
   "source": [
    "print(was_british('Spain'))\n",
    "print(was_british('United States'))"
   ]
  },
  {
   "cell_type": "code",
   "execution_count": 169,
   "id": "99f6156f",
   "metadata": {},
   "outputs": [],
   "source": [
    "def get_iso_codes_of_british_colonies():\n",
    "\n",
    "    url = \"https://www.cia.gov/the-world-factbook/references/country-data-codes/\"\n",
    "    response = requests.get(url)\n",
    "    webpage_content = response.content\n",
    "\n",
    "    soup = BeautifulSoup(webpage_content, 'html.parser')\n",
    "\n",
    "    table = soup.find('table', {'class': 'content-table table-auto'})\n",
    "\n",
    "    iso_codes = {}\n",
    "\n",
    "    for row in table.find_all('tr')[1:]:  \n",
    "        cols = row.find_all('td')\n",
    "        country_name = cols[0].text.strip()\n",
    "        if(was_british(country_name)):\n",
    "            iso_code_full = cols[2].text.strip()\n",
    "            if '|' in iso_code_full:\n",
    "                iso_code = iso_code_full.split('|')[1]\n",
    "                iso_codes[country_name] = iso_code\n",
    "\n",
    "    return iso_codes"
   ]
  },
  {
   "cell_type": "code",
   "execution_count": 170,
   "id": "1a005777",
   "metadata": {},
   "outputs": [
    {
     "name": "stdout",
     "output_type": "stream",
     "text": [
      "92 world entities are current or former parts of the British Empire\n"
     ]
    }
   ],
   "source": [
    "iso_codes_of_british_colonies = get_iso_codes_of_british_colonies()\n",
    "print(f\"{len(iso_codes_of_british_colonies)} world entities are current or former parts of the British Empire\")"
   ]
  },
  {
   "cell_type": "markdown",
   "id": "f4238892",
   "metadata": {},
   "source": [
    "__(ii)__ Retrieve the ISO codes from [here](https://www.cia.gov/the-world-factbook/references/country-data-codes/) and use them to color all countries on a world map that you have determined to be former parts of the British Empire. The map should look something like [this](https://en.wikipedia.org/wiki/British_Empire#/media/File:The_British_Empire_5.png). "
   ]
  },
  {
   "cell_type": "code",
   "execution_count": 171,
   "id": "575ea5ce",
   "metadata": {},
   "outputs": [
    {
     "data": {
      "image/png": "[encoded data removed]",
      "text/plain": [
       "<Figure size 1500x1000 with 1 Axes>"
      ]
     },
     "metadata": {},
     "output_type": "display_data"
    }
   ],
   "source": [
    "world = gpd.read_file(gpd.datasets.get_path('naturalearth_lowres'))\n",
    "\n",
    "british_colonies_iso = list(iso_codes_of_british_colonies.values())\n",
    "\n",
    "world['was_british_colony'] = world['iso_a3'].apply(lambda x: x in british_colonies_iso)\n",
    "\n",
    "fig, ax = plt.subplots(1, 1, figsize=(15, 10))\n",
    "world[world['was_british_colony']].plot(ax=ax, color='red')  # British colonies in red\n",
    "world[~world['was_british_colony']].plot(ax=ax, color='grey')  # Other countries in grey\n",
    "ax.set_title('Former British Colonies')\n",
    "plt.show()"
   ]
  },
  {
   "cell_type": "markdown",
   "id": "d297eeab",
   "metadata": {},
   "source": [
    "__(d)__ Lets build our own population pyramide (with only three steps) according to the obtained data (`0-14`, `15-64`, `65+`). Given the current health expenditure as threshold, we want to obtain create a population pyramide for all aggregated population values. __(i)__ Assemble a data frame that given a threshold shows the aggregated population values of all data points which current health expenditure does not exceed the threshold, separated by gender. The first four rows of data frame `df` are given below. \n",
    "\n",
    "_How many distinct thresholds do you find?_"
   ]
  },
  {
   "cell_type": "code",
   "execution_count": 925,
   "id": "4b3642b8",
   "metadata": {
    "tags": [
     "hint"
    ]
   },
   "outputs": [
    {
     "data": {
      "text/html": [
       "<div>\n",
       "<style scoped>\n",
       "    .dataframe tbody tr th:only-of-type {\n",
       "        vertical-align: middle;\n",
       "    }\n",
       "\n",
       "    .dataframe tbody tr th {\n",
       "        vertical-align: top;\n",
       "    }\n",
       "\n",
       "    .dataframe thead th {\n",
       "        text-align: right;\n",
       "    }\n",
       "</style>\n",
       "<table border=\"1\" class=\"dataframe\">\n",
       "  <thead>\n",
       "    <tr style=\"text-align: right;\">\n",
       "      <th></th>\n",
       "      <th>Groups</th>\n",
       "      <th>Male</th>\n",
       "      <th>Female</th>\n",
       "      <th>Threshold</th>\n",
       "    </tr>\n",
       "  </thead>\n",
       "  <tbody>\n",
       "    <tr>\n",
       "      <th>0</th>\n",
       "      <td>0-14 years</td>\n",
       "      <td>999784527</td>\n",
       "      <td>940797401</td>\n",
       "      <td>1.7</td>\n",
       "    </tr>\n",
       "    <tr>\n",
       "      <th>1</th>\n",
       "      <td>15-64 years</td>\n",
       "      <td>2595737039</td>\n",
       "      <td>2532780848</td>\n",
       "      <td>1.7</td>\n",
       "    </tr>\n",
       "    <tr>\n",
       "      <th>2</th>\n",
       "      <td>65 years and over</td>\n",
       "      <td>356032162</td>\n",
       "      <td>441482834</td>\n",
       "      <td>1.7</td>\n",
       "    </tr>\n",
       "    <tr>\n",
       "      <th>3</th>\n",
       "      <td>0-14 years</td>\n",
       "      <td>927167037</td>\n",
       "      <td>870891052</td>\n",
       "      <td>2.9</td>\n",
       "    </tr>\n",
       "  </tbody>\n",
       "</table>\n",
       "</div>"
      ],
      "text/plain": [
       "              Groups        Male      Female  Threshold\n",
       "0         0-14 years   999784527   940797401        1.7\n",
       "1        15-64 years  2595737039  2532780848        1.7\n",
       "2  65 years and over   356032162   441482834        1.7\n",
       "3         0-14 years   927167037   870891052        2.9"
      ]
     },
     "execution_count": 925,
     "metadata": {},
     "output_type": "execute_result"
    }
   ],
   "source": [
    "df.head(4)"
   ]
  },
  {
   "cell_type": "code",
   "execution_count": null,
   "id": "5058a71c",
   "metadata": {},
   "outputs": [],
   "source": [
    "def extract_healthcare_exp(expenditure_str):\n",
    "    match = re.search(r\"(\\d+\\.?\\d*)%\", expenditure_str)\n",
    "    if match:\n",
    "        return float(match.group(1))\n",
    "    return None"
   ]
  },
  {
   "cell_type": "code",
   "execution_count": null,
   "id": "a902cd58",
   "metadata": {},
   "outputs": [],
   "source": [
    "def extract_population_data(age_structure_str):\n",
    "    age_groups = re.findall(r\"<strong>(.*?)</strong>.*?male\\s+([,\\d]+)/female\\s+([,\\d]+)\", age_structure_str, re.DOTALL)\n",
    "    return age_groups"
   ]
  },
  {
   "cell_type": "code",
   "execution_count": null,
   "id": "4b2551c7",
   "metadata": {},
   "outputs": [],
   "source": [
    "thresholds = set()\n",
    "for country, _ in countries.items():\n",
    "    data = info[process_names(country)]\n",
    "    for entry in data['result']['data']['fields']['nodes']:\n",
    "        if entry['name'].strip() == 'Current health expenditure':\n",
    "            health_expenditure = entry['data'].strip()\n",
    "            threshold = extract_healthcare_exp(health_expenditure)\n",
    "            if threshold is not None:\n",
    "                thresholds.add(threshold)\n",
    "                break"
   ]
  },
  {
   "cell_type": "code",
   "execution_count": 93,
   "id": "3d3cf418",
   "metadata": {},
   "outputs": [
    {
     "name": "stdout",
     "output_type": "stream",
     "text": [
      "Number of distinct thresholds :  92\n"
     ]
    }
   ],
   "source": [
    "print(\"Number of distinct thresholds : \", len(thresholds))"
   ]
  },
  {
   "cell_type": "code",
   "execution_count": 88,
   "id": "346adeb2",
   "metadata": {},
   "outputs": [
    {
     "data": {
      "text/html": [
       "<div>\n",
       "<style scoped>\n",
       "    .dataframe tbody tr th:only-of-type {\n",
       "        vertical-align: middle;\n",
       "    }\n",
       "\n",
       "    .dataframe tbody tr th {\n",
       "        vertical-align: top;\n",
       "    }\n",
       "\n",
       "    .dataframe thead th {\n",
       "        text-align: right;\n",
       "    }\n",
       "</style>\n",
       "<table border=\"1\" class=\"dataframe\">\n",
       "  <thead>\n",
       "    <tr style=\"text-align: right;\">\n",
       "      <th></th>\n",
       "      <th>Age Group</th>\n",
       "      <th>Threshold</th>\n",
       "      <th>Male</th>\n",
       "      <th>Female</th>\n",
       "    </tr>\n",
       "  </thead>\n",
       "  <tbody>\n",
       "    <tr>\n",
       "      <th>0</th>\n",
       "      <td>0-14 years:</td>\n",
       "      <td>1.7</td>\n",
       "      <td>999784527</td>\n",
       "      <td>940797401</td>\n",
       "    </tr>\n",
       "    <tr>\n",
       "      <th>1</th>\n",
       "      <td>15-64 years:</td>\n",
       "      <td>1.7</td>\n",
       "      <td>2595737039</td>\n",
       "      <td>2532780848</td>\n",
       "    </tr>\n",
       "    <tr>\n",
       "      <th>2</th>\n",
       "      <td>65 years and over:</td>\n",
       "      <td>1.7</td>\n",
       "      <td>356032162</td>\n",
       "      <td>441482834</td>\n",
       "    </tr>\n",
       "    <tr>\n",
       "      <th>3</th>\n",
       "      <td>0-14 years:</td>\n",
       "      <td>2.0</td>\n",
       "      <td>999783005</td>\n",
       "      <td>940795953</td>\n",
       "    </tr>\n",
       "    <tr>\n",
       "      <th>4</th>\n",
       "      <td>15-64 years:</td>\n",
       "      <td>2.0</td>\n",
       "      <td>2595728401</td>\n",
       "      <td>2532772290</td>\n",
       "    </tr>\n",
       "  </tbody>\n",
       "</table>\n",
       "</div>"
      ],
      "text/plain": [
       "            Age Group  Threshold        Male      Female\n",
       "0         0-14 years:        1.7   999784527   940797401\n",
       "1        15-64 years:        1.7  2595737039  2532780848\n",
       "2  65 years and over:        1.7   356032162   441482834\n",
       "3         0-14 years:        2.0   999783005   940795953\n",
       "4        15-64 years:        2.0  2595728401  2532772290"
      ]
     },
     "execution_count": 88,
     "metadata": {},
     "output_type": "execute_result"
    }
   ],
   "source": [
    "sorted_thresholds = sorted(list(thresholds))\n",
    "\n",
    "aggregated_data = [] \n",
    "for threshold in sorted_thresholds:\n",
    "    threshold_data = {}\n",
    "    for country, _ in countries.items():\n",
    "        data = info[process_names(country)]\n",
    "        health_expenditure = None\n",
    "        for entry in data['result']['data']['fields']['nodes']:\n",
    "            if entry['name'].strip() == 'Current health expenditure':\n",
    "                health_expenditure = extract_healthcare_exp(entry['data'].strip())\n",
    "                break\n",
    "        \n",
    "        if health_expenditure and health_expenditure >= threshold:\n",
    "            for entry in data['result']['data']['fields']['nodes']:\n",
    "                if entry['name'].strip() == 'Age structure':\n",
    "                    age_structure = entry['data'].strip()\n",
    "                    population_data = extract_population_data(age_structure)\n",
    "                    for age_group, male, female in population_data:\n",
    "                        key = (age_group, threshold)\n",
    "                        male = int(male.replace(',', ''))\n",
    "                        female = int(female.replace(',', ''))\n",
    "                        if key not in threshold_data:\n",
    "                            threshold_data[key] = {'Male': male, 'Female': female}\n",
    "                        else:\n",
    "                            threshold_data[key]['Male'] += male\n",
    "                            threshold_data[key]['Female'] += female\n",
    "    \n",
    "    for key, counts in threshold_data.items():\n",
    "        aggregated_data.append((*key, counts['Male'], counts['Female']))\n",
    "\n",
    "df_aggregated = pd.DataFrame(aggregated_data, columns=['Age Group', 'Threshold', 'Male', 'Female'])\n",
    "df_aggregated.sort_values(by=['Threshold', 'Age Group'], inplace=True)\n",
    "df_aggregated.reset_index(drop=True, inplace=True)\n",
    "df_aggregated.head()"
   ]
  },
  {
   "cell_type": "markdown",
   "id": "7448e0ca",
   "metadata": {},
   "source": [
    "__(ii)__ Using `bokeh.io`, create a client-based interactive opulation pyramid that displays the data from (i) according to a set threshold (or the closest threshold that exists). Make sure that the pyramid is well crafted, similar to [this](https://en.wikipedia.org/wiki/Population_pyramid#/media/File:Angola_population_pyramid_2005.svg), but with a slider and only three population groups. \n",
    "\n",
    "_Either provide a link to a site that hosts the interactive graphic, or provide a non-interactive for threshold value `10`._"
   ]
  },
  {
   "cell_type": "code",
   "execution_count": 173,
   "id": "66e323ff",
   "metadata": {},
   "outputs": [
    {
     "data": {
      "text/html": [
       "<div>\n",
       "<style scoped>\n",
       "    .dataframe tbody tr th:only-of-type {\n",
       "        vertical-align: middle;\n",
       "    }\n",
       "\n",
       "    .dataframe tbody tr th {\n",
       "        vertical-align: top;\n",
       "    }\n",
       "\n",
       "    .dataframe thead th {\n",
       "        text-align: right;\n",
       "    }\n",
       "</style>\n",
       "<table border=\"1\" class=\"dataframe\">\n",
       "  <thead>\n",
       "    <tr style=\"text-align: right;\">\n",
       "      <th></th>\n",
       "      <th>Age Group</th>\n",
       "      <th>Threshold</th>\n",
       "      <th>Male</th>\n",
       "      <th>Female</th>\n",
       "    </tr>\n",
       "  </thead>\n",
       "  <tbody>\n",
       "    <tr>\n",
       "      <th>210</th>\n",
       "      <td>0-14 years:</td>\n",
       "      <td>10.0</td>\n",
       "      <td>110643536</td>\n",
       "      <td>105619198</td>\n",
       "    </tr>\n",
       "    <tr>\n",
       "      <th>211</th>\n",
       "      <td>15-64 years:</td>\n",
       "      <td>10.0</td>\n",
       "      <td>386123983</td>\n",
       "      <td>384207083</td>\n",
       "    </tr>\n",
       "    <tr>\n",
       "      <th>212</th>\n",
       "      <td>65 years and over:</td>\n",
       "      <td>10.0</td>\n",
       "      <td>96154385</td>\n",
       "      <td>120542005</td>\n",
       "    </tr>\n",
       "  </tbody>\n",
       "</table>\n",
       "</div>"
      ],
      "text/plain": [
       "              Age Group  Threshold       Male     Female\n",
       "210         0-14 years:       10.0  110643536  105619198\n",
       "211        15-64 years:       10.0  386123983  384207083\n",
       "212  65 years and over:       10.0   96154385  120542005"
      ]
     },
     "execution_count": 173,
     "metadata": {},
     "output_type": "execute_result"
    }
   ],
   "source": [
    "df_filtered['Male'] = -df_filtered['Male']\n",
    "df_filtered.head()"
   ]
  },
  {
   "cell_type": "code",
   "execution_count": 128,
   "id": "4498cf24",
   "metadata": {},
   "outputs": [],
   "source": [
    "initial_threshold = 10\n",
    "\n",
    "df_filtered = df_aggregated[df_aggregated['Threshold'] == initial_threshold].drop_duplicates(subset=['Age Group'])\n",
    "df_filtered['Male'] = -df_filtered['Male'].abs()\n",
    "output_file(\"population_pyramid.html\")\n",
    "\n",
    "source = ColumnDataSource(df_filtered)\n",
    "p = figure(y_range=df_filtered['Age Group'].tolist(), height=250, title=\"Population Pyramid\",\n",
    "           toolbar_location=None, x_range=(-3000000000, 3000000000))\n",
    "\n",
    "p.hbar(y='Age Group', right='Male', height=0.4, source=source, color=\"blue\")\n",
    "p.hbar(y='Age Group', right='Female', height=0.4, source=source, color=\"pink\")\n",
    "\n",
    "slider = Slider(start=df_aggregated['Threshold'].min(), end=df_aggregated['Threshold'].max(), value=initial_threshold, step=0.1, title=\"Threshold\")\n",
    "all_data = ColumnDataSource(df_aggregated.to_dict('list'))\n",
    "\n",
    "callback = CustomJS(args=dict(source=source, all_data=all_data), code=\"\"\"\n",
    "    const data = source.data;\n",
    "    const threshold = cb_obj.value;\n",
    "                    console.log(threshold);\n",
    "    const new_data = {'Age Group': [], 'Male': [], 'Female': [], 'Threshold': []};\n",
    "\n",
    "    let closest = 1000000000\n",
    "    let closest_threshold = 10         \n",
    "    for (let i = 0; i < all_data.data['Threshold'].length; i++) {\n",
    "        let diff = Math.abs(threshold-all_data.data['Threshold'][i]);\n",
    "        if(diff < closest){\n",
    "            closest = diff; \n",
    "            closest_threshold = all_data.data['Threshold'][i]\n",
    "        }\n",
    "    }\n",
    "\n",
    "    for (let i = 0; i < all_data.data['Threshold'].length; i++) {\n",
    "        if (all_data.data['Threshold'][i] == closest_threshold) {\n",
    "            new_data['Age Group'].push(all_data.data['Age Group'][i]);\n",
    "            new_data['Male'].push(-Math.abs(all_data.data['Male'][i])); // Ensure 'Male' values are negative\n",
    "            new_data['Female'].push(Math.abs(all_data.data['Female'][i])); // Ensure 'Female' values are positive\n",
    "            new_data['Threshold'].push(all_data.data['Threshold'][i]);\n",
    "        }\n",
    "    }\n",
    "\n",
    "    data['Age Group'] = new_data['Age Group'];\n",
    "    data['Male'] = new_data['Male'];\n",
    "    data['Female'] = new_data['Female'];\n",
    "    data['Threshold'] = new_data['Threshold'];\n",
    "\n",
    "    source.change.emit();\n",
    "\"\"\")\n",
    "\n",
    "\n",
    "slider.js_on_change('value', callback)\n",
    "layout = column(slider, p)\n",
    "show(layout)"
   ]
  },
  {
   "cell_type": "markdown",
   "id": "161f3b1d",
   "metadata": {},
   "source": [
    "Below is the population chart for threshold value = 10\n",
    "\n",
    "\n",
    "![Alt text](Population_chart_threshold_10.png \"Optional title\")"
   ]
  },
  {
   "cell_type": "markdown",
   "id": "d05fafc2",
   "metadata": {},
   "source": [
    "I have hosted my answer on github pages with interactive slider, you can access it from this link : [Link](https://kaushalnaresh.github.io/Data_And_Web_Technologies_For_Data_Science/HW4/population_pyramid.html)"
   ]
  }
 ],
 "metadata": {
  "celltoolbar": "Tags",
  "kernelspec": {
   "display_name": "Python 3 (ipykernel)",
   "language": "python",
   "name": "python3"
  },
  "language_info": {
   "codemirror_mode": {
    "name": "ipython",
    "version": 3
   },
   "file_extension": ".py",
   "mimetype": "text/x-python",
   "name": "python",
   "nbconvert_exporter": "python",
   "pygments_lexer": "ipython3",
   "version": "3.12.1"
  }
 },
 "nbformat": 4,
 "nbformat_minor": 5
}
