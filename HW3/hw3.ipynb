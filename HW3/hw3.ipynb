{
 "cells": [
  {
   "cell_type": "markdown",
   "id": "7b4bee3a",
   "metadata": {
    "tags": [
     "header"
    ]
   },
   "source": [
    "# STA 220 Assignment 3\n",
    "\n",
    "Due __Februrary 23, 2024__ by __11:59pm__. Submit your work by uploading it to Gradescope through Canvas.\n",
    "\n",
    "Instructions:\n",
    "\n",
    "1. Provide your solutions in new cells following each exercise description. Create as many new cells as necessary. Use code cells for your Python scripts and Markdown cells for explanatory text or answers to non-coding questions. Answer all textual questions in complete sentences.\n",
    "2. The use of assistive tools is permitted, but must be indicated. You will be graded on you proficiency in coding. Produce high quality code by adhering to proper programming principles. \n",
    "3. Export the .jpynb as .pdf and submit it on Gradescope in time. To facilitate grading, indicate the area of the solution on the submission. Submissions without indication will be marked down. No late submissions accepted. \n",
    "4. If test cases are given, your solution must be in the same format. \n",
    "5. The total number of points is 10. "
   ]
  },
  {
   "cell_type": "code",
   "execution_count": 21,
   "id": "4dbc081c",
   "metadata": {},
   "outputs": [],
   "source": [
    "import requests\n",
    "from bs4 import BeautifulSoup\n",
    "import re\n",
    "import requests_cache\n",
    "from concurrent.futures import ThreadPoolExecutor, as_completed \n",
    "import matplotlib.pyplot as plt\n",
    "import pandas as pd\n",
    "from sklearn.feature_extraction.text import TfidfVectorizer\n",
    "from sklearn.decomposition import TruncatedSVD\n",
    "import seaborn as sns\n",
    "import warnings\n",
    "warnings.filterwarnings(\"ignore\")"
   ]
  },
  {
   "cell_type": "code",
   "execution_count": null,
   "id": "9afaf90d",
   "metadata": {},
   "outputs": [],
   "source": [
    "requests_cache.install_cache('imsdb_cache') "
   ]
  },
  {
   "cell_type": "markdown",
   "id": "17c77449",
   "metadata": {
    "tags": [
     "exercise"
    ]
   },
   "source": [
    "__(a, i)__ Write a function that retrieves all links to movies in the database by scraping the _alphabetical_ section on [imsdb.com](https://imsdb.com/) and retrieve the links. _How many links did you find?_ "
   ]
  },
  {
   "cell_type": "code",
   "execution_count": 8,
   "id": "9b6a5e68",
   "metadata": {},
   "outputs": [],
   "source": [
    "def retrieve_movie_links():\n",
    "    base_url = \"https://imsdb.com\"\n",
    "    movie_links = []\n",
    "    for i in range(-1, 26):\n",
    "        if(i == -1):\n",
    "            alphabetical_url = f\"{base_url}/alphabetical/{i+1}\"\n",
    "        else:\n",
    "            alphabetical_url = f\"{base_url}/alphabetical/{chr(ord('a')+i)}\"\n",
    "        \n",
    "        response = requests.get(alphabetical_url)\n",
    "        soup = BeautifulSoup(response.content, 'html.parser')\n",
    "        \n",
    "        # Find all links within the alphabetical listing\n",
    "        for p in soup.find_all('p'):\n",
    "            a_tag = p.find('a')\n",
    "            if a_tag:\n",
    "                href = a_tag.get('href')\n",
    "                if href and 'Movie Scripts' in href:\n",
    "                    movie_links.append(href)\n",
    "    \n",
    "    return movie_links"
   ]
  },
  {
   "cell_type": "code",
   "execution_count": 9,
   "id": "852ef0df",
   "metadata": {},
   "outputs": [
    {
     "name": "stdout",
     "output_type": "stream",
     "text": [
      "Total movie links found: 1213\n"
     ]
    }
   ],
   "source": [
    "# Example usage\n",
    "movie_links = retrieve_movie_links()\n",
    "print(f\"Total movie links found: {len(set(movie_links))}\")"
   ]
  },
  {
   "cell_type": "markdown",
   "id": "f9f9c35e",
   "metadata": {},
   "source": [
    "__(ii)__ Write a function `fetch_script` that, given the link of a movie retrieved in (i), returns a dictionary that contains all relevant information of the movie: \n",
    "\n",
    "```python\n",
    "fetch_script('/Movie Scripts/10 Things I Hate About You Script.html')\n",
    "\n",
    ">>> {'title': '10 Things I Hate About You',\n",
    "     'writers': ['Karen McCullah Lutz', 'Kirsten Smith', 'William Shakespeare'],\n",
    "     'genres': ['Comedy', 'Romance'],\n",
    "     'date': 1997,\n",
    "     'script': '...'}\n",
    "```\n",
    "\n",
    "The `script` field contains a string of the scraped script. Retrieve the information for all movies. _How many scripts did you retrieve?_"
   ]
  },
  {
   "cell_type": "code",
   "execution_count": 11,
   "id": "1b8b7b4c",
   "metadata": {},
   "outputs": [],
   "source": [
    "def fetch_script(url):\n",
    "    try:\n",
    "        base_url = \"https://imsdb.com\"\n",
    "        movie_url = base_url+url\n",
    "        with requests_cache.CachedSession('imsdb_cache') as session:\n",
    "            response = session.get(movie_url)\n",
    "            soup = BeautifulSoup(response.content, 'html.parser')\n",
    "\n",
    "        # Extract title\n",
    "        title_tag = soup.find('title')\n",
    "        title = title_tag.text.replace(' Script at IMSDb.', '') if title_tag else 'Unknown'\n",
    "        # print(title)\n",
    "\n",
    "        # Extract writers\n",
    "        writers_tag = soup.find('b', string='Writers')\n",
    "        writers = []\n",
    "        current_tag = writers_tag.find_next_sibling('a')\n",
    "        while current_tag is not None:\n",
    "            if current_tag.name == 'a' and 'writer' in current_tag['href']:\n",
    "                writers.append(current_tag.text)\n",
    "            current_tag = current_tag.find_next_sibling()\n",
    "\n",
    "        # Extract genres\n",
    "        genres_tag = soup.find('b', string='Genres')\n",
    "        genres = []\n",
    "        current_tag = genres_tag.find_next_sibling('a')\n",
    "        while current_tag is not None:\n",
    "            if current_tag.name == 'a' and 'genre' in current_tag['href']:\n",
    "                genres.append(current_tag.text)\n",
    "            current_tag = current_tag.find_next_sibling()\n",
    "        \n",
    "        # Extract script date\n",
    "        date_tag = soup.find('b', string=lambda text: text and 'Date' in text)\n",
    "        date = date_tag.next_sibling.strip(': ').strip() if date_tag else 'Unknown'\n",
    "        \n",
    "        \n",
    "        # Assuming there's a link to the script we can extract\n",
    "        script_url_tag = soup.find('a', href=True, string=re.compile(r'Read \".+\" Script'))\n",
    "        script_url = script_url_tag['href'] if script_url_tag else 'URL Not Found'\n",
    "\n",
    "        # The actual script content needs to be fetched separately since it's not included in the provided source\n",
    "        script_content = 'Script content not found.'\n",
    "        if(script_url != 'URL Not Found'):\n",
    "            with requests_cache.CachedSession('imsdb_cache') as session:\n",
    "                script_response = session.get(base_url+script_url)\n",
    "                script_soup = BeautifulSoup(script_response.content, 'html.parser')\n",
    "            \n",
    "            script_content_tag = script_soup.find('pre')\n",
    "            script_content = script_content_tag.get_text(strip=True) if script_content_tag else 'Script content not found.'\n",
    "        \n",
    "        movie_details = {\n",
    "            \"title\": title,\n",
    "            \"writers\": writers,\n",
    "            \"genres\": genres,\n",
    "            \"date\": date,\n",
    "            \"script_url\": script_url,\n",
    "            \"script_content\": script_content\n",
    "        }\n",
    "\n",
    "        return movie_details\n",
    "    \n",
    "    except Exception as e:\n",
    "        print(f\"Error in fetching {url}: \"+str(e))\n"
   ]
  },
  {
   "cell_type": "code",
   "execution_count": 12,
   "id": "0e7a8324",
   "metadata": {},
   "outputs": [
    {
     "name": "stdout",
     "output_type": "stream",
     "text": [
      "Total number of scripts retrieved: 1184\n"
     ]
    }
   ],
   "source": [
    "count = 0\n",
    "movie_info = {}\n",
    "with ThreadPoolExecutor(max_workers=8) as executor:\n",
    "    future_to_url = {executor.submit(fetch_script, url): url for url in movie_links}\n",
    "    for future in as_completed(future_to_url):\n",
    "        url = future_to_url[future]\n",
    "        try:\n",
    "            movie_details = future.result()\n",
    "            if(movie_details and url not in movie_info and movie_details['script_url'] != 'URL Not Found'):\n",
    "                count += 1\n",
    "            movie_info[url] = movie_details\n",
    "        except Exception as e:\n",
    "            print(f\"Error processing URL {url}: {e}\")\n",
    "            \n",
    "print(f\"Total number of scripts retrieved: {count}\")"
   ]
  },
  {
   "cell_type": "markdown",
   "id": "9b612cdc",
   "metadata": {
    "tags": [
     "exercise"
    ]
   },
   "source": [
    "__(b)__ We are interested in the genres `'Musical'`, `'Horror'`, and `'Romance'`. Craft a barplot displaying the absolute counts for each of these categories. In each bar, color-code the fractions of movies that are also counted in another genres. "
   ]
  },
  {
   "cell_type": "code",
   "execution_count": 14,
   "id": "7af8e5d4",
   "metadata": {},
   "outputs": [
    {
     "data": {
      "image/png": "[encoded data removed]",
      "text/plain": [
       "<Figure size 640x480 with 1 Axes>"
      ]
     },
     "metadata": {},
     "output_type": "display_data"
    }
   ],
   "source": [
    "genres_of_interest = [\"Musical\", \"Horror\", \"Romance\"]\n",
    "\n",
    "genre_counts = {genre: 0 for genre in genres_of_interest}\n",
    "multi_genre_counts = {genre: 0 for genre in genres_of_interest}\n",
    "\n",
    "for movie_details in movie_info.values():\n",
    "    genres = movie_details[\"genres\"]\n",
    "    common_genres = set(genres) & set(genres_of_interest)\n",
    "    for genre in common_genres:\n",
    "        genre_counts[genre] += 1\n",
    "        if len(common_genres) > 1:  \n",
    "            multi_genre_counts[genre] += 1\n",
    "\n",
    "df = pd.DataFrame({\n",
    "    \"Genre\": genres_of_interest,\n",
    "    \"Total Count\": [genre_counts[genre] for genre in genres_of_interest],\n",
    "    \"Multi-Genre Count\": [multi_genre_counts[genre] for genre in genres_of_interest]\n",
    "})\n",
    "\n",
    "# Plot\n",
    "fig, ax = plt.subplots()\n",
    "df.plot(kind=\"bar\", x=\"Genre\", y=[\"Total Count\", \"Multi-Genre Count\"], stacked=True, ax=ax)\n",
    "ax.set_ylabel(\"Number of Movies\")\n",
    "ax.set_title(\"Counts of Movies by Genre with Multi-Genre Breakdown\")\n",
    "plt.xticks(rotation=45)\n",
    "plt.tight_layout()  \n",
    "plt.show()\n"
   ]
  },
  {
   "cell_type": "markdown",
   "id": "8358fa83",
   "metadata": {
    "tags": [
     "exercise"
    ]
   },
   "source": [
    "__(c, i)__ Using only regex, write a function `tokenizer` that returns bigrams of all non-whitespace and non-punctuation characters, according to the test case below: \n",
    "\n",
    "```python\n",
    "test = '''\n",
    "    Neque porro quisquam est, qui dolorem ipsum quia dolor sit amet, \n",
    "    consectetur, adipisci velit, sed quia non numquam eius modi tempora \n",
    "    incidunt ut labore et dolore magnam aliquam quaerat voluptatem.\n",
    "'''\n",
    "tokenizer(test)\n",
    ">>> ['neque porro',\n",
    " 'porro quisquam',\n",
    " 'quisquam est',\n",
    " 'qui dolorem',\n",
    " 'dolorem ipsum',\n",
    " 'ipsum quia',\n",
    " 'quia dolor',\n",
    " 'dolor sit',\n",
    " 'sit amet',\n",
    " 'adipisci velit',\n",
    " 'sed quia',\n",
    " 'quia non',\n",
    " 'non numquam',\n",
    " 'numquam eius',\n",
    " 'eius modi',\n",
    " 'modi tempora',\n",
    " 'incidunt ut',\n",
    " 'ut labore',\n",
    " 'labore et',\n",
    " 'et dolore',\n",
    " 'dolore magnam',\n",
    " 'magnam aliquam',\n",
    " 'aliquam quaerat',\n",
    " 'quaerat voluptatem']\n",
    " ```"
   ]
  },
  {
   "cell_type": "code",
   "execution_count": 35,
   "id": "6546ae09",
   "metadata": {},
   "outputs": [],
   "source": [
    "def tokenizer(text):\n",
    "    words = re.findall(r'\\b\\w+\\b', text.lower())  \n",
    "\n",
    "    bigrams = [' '.join(pair) for pair in zip(words, words[1:])]\n",
    "\n",
    "    return bigrams"
   ]
  },
  {
   "cell_type": "code",
   "execution_count": 17,
   "id": "38e6476a",
   "metadata": {},
   "outputs": [
    {
     "name": "stdout",
     "output_type": "stream",
     "text": [
      "neque porro\n",
      "porro quisquam\n",
      "quisquam est\n",
      "est qui\n",
      "qui dolorem\n",
      "dolorem ipsum\n",
      "ipsum quia\n",
      "quia dolor\n",
      "dolor sit\n",
      "sit amet\n",
      "amet consectetur\n",
      "consectetur adipisci\n",
      "adipisci velit\n",
      "velit sed\n",
      "sed quia\n",
      "quia non\n",
      "non numquam\n",
      "numquam eius\n",
      "eius modi\n",
      "modi tempora\n",
      "tempora incidunt\n",
      "incidunt ut\n",
      "ut labore\n",
      "labore et\n",
      "et dolore\n",
      "dolore magnam\n",
      "magnam aliquam\n",
      "aliquam quaerat\n",
      "quaerat voluptatem\n"
     ]
    }
   ],
   "source": [
    "# Test case\n",
    "test = '''\n",
    "    Neque porro quisquam est, qui dolorem ipsum quia dolor sit amet, \n",
    "    consectetur, adipisci velit, sed quia non numquam eius modi tempora \n",
    "    incidunt ut labore et dolore magnam aliquam quaerat voluptatem.\n",
    "'''\n",
    "tokens = tokenizer(test)\n",
    "\n",
    "for token in tokens:\n",
    "    print(token)\n"
   ]
  },
  {
   "cell_type": "code",
   "execution_count": 28,
   "id": "d96e0825",
   "metadata": {},
   "outputs": [],
   "source": [
    "# corpus = [movie_info['/Movie Scripts/10 Things I Hate About You Script.html']['script_content']]\n",
    "# vectorizer = TfidfVectorizer(tokenizer=tokenizer, stop_words='english')\n",
    "# tfidf_matrix = vectorizer.fit_transform(corpus)"
   ]
  },
  {
   "cell_type": "code",
   "execution_count": 33,
   "id": "c1e3ff08",
   "metadata": {},
   "outputs": [
    {
     "name": "stdout",
     "output_type": "stream",
     "text": [
      "0 fair\n"
     ]
    }
   ],
   "source": [
    "# tokens = vectorizer.get_feature_names_out()\n",
    "\n",
    "# # Print or inspect the tokens\n",
    "# print(tokens[0])"
   ]
  },
  {
   "cell_type": "markdown",
   "id": "1241f210",
   "metadata": {
    "tags": [
     "exercise"
    ]
   },
   "source": [
    "__(ii)__ Use the tokenizer to obtain a tf-idf vector for each movie. Perform a (non-centered) principal component analysis (`sklearn.decomposition.TruncatedSVD`). _What fraction of variation is explained by the first principal component?_ "
   ]
  },
  {
   "cell_type": "code",
   "execution_count": 36,
   "id": "8428aecb",
   "metadata": {},
   "outputs": [
    {
     "name": "stdout",
     "output_type": "stream",
     "text": [
      "Fraction of variance explained by the first principal component: 0.008952138958774907\n"
     ]
    }
   ],
   "source": [
    "# Step 2: Prepare Corpus\n",
    "corpus = [details['script_content'] if details['script_content'] != \"Script content not found.\" else \"\" for details in movie_info.values()]\n",
    "titles = [details['title'] for details in movie_info.values()]\n",
    "genres = [details['genres'] for details in movie_info.values()]\n",
    "\n",
    "# Vectorize with TF-IDF\n",
    "vectorizer = TfidfVectorizer(tokenizer=tokenizer, stop_words='english')\n",
    "tfidf_matrix = vectorizer.fit_transform(corpus)\n",
    "\n",
    "# Step 3: PCA using TruncatedSVD\n",
    "svd = TruncatedSVD(n_components=1)\n",
    "principal_components = svd.fit_transform(tfidf_matrix)\n",
    "explained_variance = svd.explained_variance_ratio_[0]\n",
    "\n",
    "print(f\"Fraction of variance explained by the first principal component: {explained_variance}\")"
   ]
  },
  {
   "cell_type": "markdown",
   "id": "96a43a44",
   "metadata": {},
   "source": [
    "__(iii)__ Generate a strip-plot for the first principal components versus all three genres. Does visualization indicate that a good classification could result from this approach? "
   ]
  },
  {
   "cell_type": "code",
   "execution_count": 38,
   "id": "c58ae60e",
   "metadata": {},
   "outputs": [
    {
     "data": {
      "image/png": "[encoded data removed]",
      "text/plain": [
       "<Figure size 1000x600 with 1 Axes>"
      ]
     },
     "metadata": {},
     "output_type": "display_data"
    }
   ],
   "source": [
    "# Step 4: Visualization\n",
    "df = pd.DataFrame({\n",
    "    'First Principal Component': principal_components.ravel(),\n",
    "    'Genre': ['|'.join(set(g) & set(genres_of_interest)) if set(g) & set(genres_of_interest) else 'Other' for g in genres],\n",
    "    'Title': titles\n",
    "})\n",
    "\n",
    "# Filter DataFrame for genres of interest\n",
    "df_filtered = df[df['Genre'] != 'Other']\n",
    "\n",
    "# Plotting\n",
    "plt.figure(figsize=(10, 6))\n",
    "sns.stripplot(data=df_filtered, x='Genre', y='First Principal Component', jitter=True)\n",
    "plt.title('First Principal Component by Genre')\n",
    "plt.xlabel('Genre')\n",
    "plt.ylabel('First Principal Component')\n",
    "plt.xticks(rotation=45)\n",
    "plt.tight_layout()\n",
    "plt.show()"
   ]
  },
  {
   "cell_type": "markdown",
   "id": "c798909e",
   "metadata": {},
   "source": [
    "While the plot does show some level of separation, the significant overlap suggests that classification based solely on the first principal component might not be very effective. For a good classification, one typically hopes to see more distinct and non-overlapping distributions for each category. The plot implies that additional components or other features might be necessary to improve classification performance."
   ]
  },
  {
   "cell_type": "markdown",
   "id": "b8c3cba4",
   "metadata": {},
   "source": []
  }
 ],
 "metadata": {
  "celltoolbar": "Tags",
  "kernelspec": {
   "display_name": "Python 3 (ipykernel)",
   "language": "python",
   "name": "python3"
  },
  "language_info": {
   "codemirror_mode": {
    "name": "ipython",
    "version": 3
   },
   "file_extension": ".py",
   "mimetype": "text/x-python",
   "name": "python",
   "nbconvert_exporter": "python",
   "pygments_lexer": "ipython3",
   "version": "3.12.1"
  }
 },
 "nbformat": 4,
 "nbformat_minor": 5
}
