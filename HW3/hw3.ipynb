{
 "cells": [
  {
   "cell_type": "markdown",
   "id": "7b4bee3a",
   "metadata": {
    "tags": [
     "header"
    ]
   },
   "source": [
    "# STA 220 Assignment 3\n",
    "\n",
    "Due __Februrary 23, 2024__ by __11:59pm__. Submit your work by uploading it to Gradescope through Canvas.\n",
    "\n",
    "Instructions:\n",
    "\n",
    "1. Provide your solutions in new cells following each exercise description. Create as many new cells as necessary. Use code cells for your Python scripts and Markdown cells for explanatory text or answers to non-coding questions. Answer all textual questions in complete sentences.\n",
    "2. The use of assistive tools is permitted, but must be indicated. You will be graded on you proficiency in coding. Produce high quality code by adhering to proper programming principles. \n",
    "3. Export the .jpynb as .pdf and submit it on Gradescope in time. To facilitate grading, indicate the area of the solution on the submission. Submissions without indication will be marked down. No late submissions accepted. \n",
    "4. If test cases are given, your solution must be in the same format. \n",
    "5. The total number of points is 10. "
   ]
  },
  {
   "cell_type": "code",
   "execution_count": 221,
   "id": "4dbc081c",
   "metadata": {},
   "outputs": [],
   "source": [
    "import requests\n",
    "from bs4 import BeautifulSoup\n",
    "import re\n",
    "import requests_cache\n",
    "from concurrent.futures import ThreadPoolExecutor, as_completed \n",
    "import matplotlib.pyplot as plt\n",
    "import pandas as pd\n",
    "from sklearn.feature_extraction.text import TfidfVectorizer\n",
    "from sklearn.decomposition import TruncatedSVD\n",
    "import seaborn as sns\n",
    "import warnings\n",
    "warnings.filterwarnings(\"ignore\")"
   ]
  },
  {
   "cell_type": "code",
   "execution_count": 222,
   "id": "9afaf90d",
   "metadata": {},
   "outputs": [],
   "source": [
    "requests_cache.install_cache('imsdb_cache') "
   ]
  },
  {
   "cell_type": "markdown",
   "id": "17c77449",
   "metadata": {
    "tags": [
     "exercise"
    ]
   },
   "source": [
    "__(a, i)__ Write a function that retrieves all links to movies in the database by scraping the _alphabetical_ section on [imsdb.com](https://imsdb.com/) and retrieve the links. _How many links did you find?_ "
   ]
  },
  {
   "cell_type": "code",
   "execution_count": 223,
   "id": "9b6a5e68",
   "metadata": {},
   "outputs": [],
   "source": [
    "def retrieve_movie_links():\n",
    "    base_url = \"https://imsdb.com\"\n",
    "    movie_links = []\n",
    "    for i in range(-1, 26):\n",
    "        if(i == -1):\n",
    "            alphabetical_url = f\"{base_url}/alphabetical/{i+1}\"\n",
    "        else:\n",
    "            alphabetical_url = f\"{base_url}/alphabetical/{chr(ord('a')+i)}\"\n",
    "        \n",
    "        response = requests.get(alphabetical_url)\n",
    "        soup = BeautifulSoup(response.content, 'html.parser')\n",
    "        \n",
    "        # Find all links within the alphabetical listing\n",
    "        for p in soup.find_all('p'):\n",
    "            a_tag = p.find('a')\n",
    "            if a_tag:\n",
    "                href = a_tag.get('href')\n",
    "                if href and 'Movie Scripts' in href:\n",
    "                    movie_links.append(href)\n",
    "    \n",
    "    return movie_links"
   ]
  },
  {
   "cell_type": "code",
   "execution_count": 224,
   "id": "852ef0df",
   "metadata": {},
   "outputs": [
    {
     "name": "stdout",
     "output_type": "stream",
     "text": [
      "Total movie links found: 1219\n"
     ]
    }
   ],
   "source": [
    "# Example usage\n",
    "movie_links = retrieve_movie_links()\n",
    "print(f\"Total movie links found: {len(set(movie_links))}\")"
   ]
  },
  {
   "cell_type": "markdown",
   "id": "f9f9c35e",
   "metadata": {},
   "source": [
    "__(ii)__ Write a function `fetch_script` that, given the link of a movie retrieved in (i), returns a dictionary that contains all relevant information of the movie: \n",
    "\n",
    "```python\n",
    "fetch_script('/Movie Scripts/10 Things I Hate About You Script.html')\n",
    "\n",
    ">>> {'title': '10 Things I Hate About You',\n",
    "     'writers': ['Karen McCullah Lutz', 'Kirsten Smith', 'William Shakespeare'],\n",
    "     'genres': ['Comedy', 'Romance'],\n",
    "     'date': 1997,\n",
    "     'script': '...'}\n",
    "```\n",
    "\n",
    "The `script` field contains a string of the scraped script. Retrieve the information for all movies. _How many scripts did you retrieve?_"
   ]
  },
  {
   "cell_type": "code",
   "execution_count": 225,
   "id": "1b8b7b4c",
   "metadata": {},
   "outputs": [],
   "source": [
    "def fetch_script(url):\n",
    "    try:\n",
    "        base_url = \"https://imsdb.com\"\n",
    "        movie_url = base_url+url\n",
    "        with requests_cache.CachedSession('imsdb_cache') as session:\n",
    "            response = session.get(movie_url)\n",
    "            soup = BeautifulSoup(response.content, 'html.parser')\n",
    "\n",
    "        # Extract title\n",
    "        title_tag = soup.find('title')\n",
    "        title = title_tag.text.replace(' Script at IMSDb.', '') if title_tag else 'Unknown'\n",
    "\n",
    "        # Extract writers\n",
    "        writers_tag = soup.find('b', string='Writers')\n",
    "        writers = []\n",
    "        current_tag = writers_tag.find_next_sibling('a')\n",
    "        while current_tag is not None:\n",
    "            if current_tag.name == 'a' and 'writer' in current_tag['href']:\n",
    "                writers.append(current_tag.text)\n",
    "            current_tag = current_tag.find_next_sibling()\n",
    "\n",
    "        # Extract genres\n",
    "        genres_tag = soup.find('b', string='Genres')\n",
    "        genres = []\n",
    "        current_tag = genres_tag.find_next_sibling('a')\n",
    "        while current_tag is not None:\n",
    "            if current_tag.name == 'a' and 'genre' in current_tag['href']:\n",
    "                genres.append(current_tag.text)\n",
    "            current_tag = current_tag.find_next_sibling()\n",
    "        \n",
    "        # Extract script date\n",
    "        date_tag = soup.find('b', string=lambda text: text and 'Date' in text)\n",
    "        date = date_tag.next_sibling.strip(': ').strip() if date_tag else 'Unknown'\n",
    "        \n",
    "        \n",
    "        # Assuming there's a link to the script we can extract\n",
    "        script_url_tag = soup.find('a', href=True, string=re.compile(r'Read \".+\" Script'))\n",
    "        script_url = script_url_tag['href'] if script_url_tag else 'URL Not Found'\n",
    "\n",
    "        script_content = 'Script content not found.'\n",
    "        if(script_url != 'URL Not Found'):\n",
    "            with requests_cache.CachedSession('imsdb_cache') as session:\n",
    "                script_response = session.get(base_url+script_url)\n",
    "                script_soup = BeautifulSoup(script_response.content, 'html.parser')\n",
    "            \n",
    "            script_content_tag = script_soup.find('td', class_=\"scrtext\")\n",
    "            script_content = script_content_tag.get_text(strip=True) if script_content_tag else 'Script content not found.'\n",
    "            \n",
    "        movie_details = {\n",
    "            \"title\": title,\n",
    "            \"writers\": writers,\n",
    "            \"genres\": genres,\n",
    "            \"date\": date,\n",
    "            \"script_url\": script_url,\n",
    "            \"script_content\": script_content\n",
    "        }\n",
    "\n",
    "        return movie_details\n",
    "    \n",
    "    except Exception as e:\n",
    "        print(f\"Error in fetching {url}: \"+str(e))\n"
   ]
  },
  {
   "cell_type": "code",
   "execution_count": 226,
   "id": "0e7a8324",
   "metadata": {},
   "outputs": [
    {
     "name": "stdout",
     "output_type": "stream",
     "text": [
      "Total number of scripts retrieved: 1170\n"
     ]
    }
   ],
   "source": [
    "count = 0\n",
    "movie_info = {}\n",
    "with ThreadPoolExecutor(max_workers=8) as executor:\n",
    "    future_to_url = {executor.submit(fetch_script, url): url for url in movie_links}\n",
    "    for future in as_completed(future_to_url):\n",
    "        url = future_to_url[future]\n",
    "        try:\n",
    "            movie_details = future.result()\n",
    "            if(movie_details and url not in movie_info and movie_details['script_content'] != 'Script content not found.'):\n",
    "                count += 1\n",
    "            movie_info[url] = movie_details\n",
    "        except Exception as e:\n",
    "            print(f\"Error processing URL {url}: {e}\")\n",
    "            \n",
    "print(f\"Total number of scripts retrieved: {count}\")"
   ]
  },
  {
   "cell_type": "markdown",
   "id": "9b612cdc",
   "metadata": {
    "tags": [
     "exercise"
    ]
   },
   "source": [
    "__(b)__ We are interested in the genres `'Musical'`, `'Horror'`, and `'Romance'`. Craft a barplot displaying the absolute counts for each of these categories. In each bar, color-code the fractions of movies that are also counted in another genres. "
   ]
  },
  {
   "cell_type": "code",
   "execution_count": 227,
   "id": "7af8e5d4",
   "metadata": {},
   "outputs": [],
   "source": [
    "genres_of_interest = [\"Musical\", \"Horror\", \"Romance\"]\n",
    "movies_of_interest = []\n",
    "\n",
    "multi_genre_counts = {\"Musical\": {\"Horror\" : 0, \"Musical\": 0, \"Romance\": 0, \"All_Three\": 0},\n",
    "                      \"Horror\": {\"Horror\": 0, \"Musical\": 0, \"Romance\": 0, \"All_Three\": 0},\n",
    "                      \"Romance\": {\"Horror\": 0, \"Musical\": 0, \"Romance\": 0, \"All_Three\": 0}}\n",
    "\n",
    "for movie_details in movie_info.values():\n",
    "    genres = movie_details[\"genres\"]\n",
    "    common_genres = list(set(genres) & set(genres_of_interest))\n",
    "    if(len(common_genres) == 3):\n",
    "        movies_of_interest.append(movie_details)\n",
    "        multi_genre_counts['Horror']['All_Three'] += 1\n",
    "        multi_genre_counts['Musical']['All_Three'] += 1\n",
    "        multi_genre_counts['Romance']['All_Three'] += 1\n",
    "    elif(len(common_genres) == 2):\n",
    "        movies_of_interest.append(movie_details)\n",
    "        multi_genre_counts[common_genres[0]][common_genres[1]] += 1\n",
    "        multi_genre_counts[common_genres[1]][common_genres[0]] += 1\n",
    "    elif(len(common_genres) == 1):\n",
    "        movies_of_interest.append(movie_details)\n",
    "        multi_genre_counts[common_genres[0]][common_genres[0]] += 1"
   ]
  },
  {
   "cell_type": "code",
   "execution_count": 228,
   "id": "3227761e",
   "metadata": {},
   "outputs": [
    {
     "data": {
      "image/png": "[encoded data removed]",
      "text/plain": [
       "<Figure size 640x480 with 1 Axes>"
      ]
     },
     "metadata": {},
     "output_type": "display_data"
    }
   ],
   "source": [
    "multi_genre_df = pd.DataFrame(multi_genre_counts).T  \n",
    "\n",
    "# Plotting\n",
    "fig, ax = plt.subplots()\n",
    "multi_genre_df.plot(kind='bar', stacked=True, ax=ax, colormap='viridis')\n",
    "ax.set_ylabel(\"Number of Movies\")\n",
    "ax.set_title(\"Multi-Genre Movie Counts\")\n",
    "plt.xticks(rotation=45)\n",
    "plt.tight_layout()\n",
    "plt.show()"
   ]
  },
  {
   "cell_type": "code",
   "execution_count": 229,
   "id": "2911d965",
   "metadata": {},
   "outputs": [
    {
     "data": {
      "text/html": [
       "<div>\n",
       "<style scoped>\n",
       "    .dataframe tbody tr th:only-of-type {\n",
       "        vertical-align: middle;\n",
       "    }\n",
       "\n",
       "    .dataframe tbody tr th {\n",
       "        vertical-align: top;\n",
       "    }\n",
       "\n",
       "    .dataframe thead th {\n",
       "        text-align: right;\n",
       "    }\n",
       "</style>\n",
       "<table border=\"1\" class=\"dataframe\">\n",
       "  <thead>\n",
       "    <tr style=\"text-align: right;\">\n",
       "      <th></th>\n",
       "      <th>Horror</th>\n",
       "      <th>Musical</th>\n",
       "      <th>Romance</th>\n",
       "      <th>All_Three</th>\n",
       "    </tr>\n",
       "  </thead>\n",
       "  <tbody>\n",
       "    <tr>\n",
       "      <th>Musical</th>\n",
       "      <td>3</td>\n",
       "      <td>18</td>\n",
       "      <td>5</td>\n",
       "      <td>0</td>\n",
       "    </tr>\n",
       "    <tr>\n",
       "      <th>Horror</th>\n",
       "      <td>147</td>\n",
       "      <td>3</td>\n",
       "      <td>7</td>\n",
       "      <td>0</td>\n",
       "    </tr>\n",
       "    <tr>\n",
       "      <th>Romance</th>\n",
       "      <td>7</td>\n",
       "      <td>5</td>\n",
       "      <td>198</td>\n",
       "      <td>0</td>\n",
       "    </tr>\n",
       "  </tbody>\n",
       "</table>\n",
       "</div>"
      ],
      "text/plain": [
       "         Horror  Musical  Romance  All_Three\n",
       "Musical       3       18        5          0\n",
       "Horror      147        3        7          0\n",
       "Romance       7        5      198          0"
      ]
     },
     "execution_count": 229,
     "metadata": {},
     "output_type": "execute_result"
    }
   ],
   "source": [
    "multi_genre_df"
   ]
  },
  {
   "cell_type": "markdown",
   "id": "8358fa83",
   "metadata": {
    "tags": [
     "exercise"
    ]
   },
   "source": [
    "__(c, i)__ Using only regex, write a function `tokenizer` that returns bigrams of all non-whitespace and non-punctuation characters, according to the test case below: \n",
    "\n",
    "```python\n",
    "test = '''\n",
    "    Neque porro quisquam est, qui dolorem ipsum quia dolor sit amet, \n",
    "    consectetur, adipisci velit, sed quia non numquam eius modi tempora \n",
    "    incidunt ut labore et dolore magnam aliquam quaerat voluptatem.\n",
    "'''\n",
    "tokenizer(test)\n",
    ">>> ['neque porro',\n",
    " 'porro quisquam',\n",
    " 'quisquam est',\n",
    " 'qui dolorem',\n",
    " 'dolorem ipsum',\n",
    " 'ipsum quia',\n",
    " 'quia dolor',\n",
    " 'dolor sit',\n",
    " 'sit amet',\n",
    " 'adipisci velit',\n",
    " 'sed quia',\n",
    " 'quia non',\n",
    " 'non numquam',\n",
    " 'numquam eius',\n",
    " 'eius modi',\n",
    " 'modi tempora',\n",
    " 'incidunt ut',\n",
    " 'ut labore',\n",
    " 'labore et',\n",
    " 'et dolore',\n",
    " 'dolore magnam',\n",
    " 'magnam aliquam',\n",
    " 'aliquam quaerat',\n",
    " 'quaerat voluptatem']\n",
    " ```"
   ]
  },
  {
   "cell_type": "code",
   "execution_count": 230,
   "id": "6546ae09",
   "metadata": {},
   "outputs": [],
   "source": [
    "def tokenizer(text):\n",
    "    \n",
    "    words_with_positions = [(m.group(), m.end()) for m in re.finditer(r'\\b\\w+\\b', text)]\n",
    "    bigrams = []\n",
    "    for i in range(len(words_with_positions) - 1):\n",
    "        if words_with_positions[i][1] + 1 == words_with_positions[i + 1][1] - len(words_with_positions[i + 1][0]):\n",
    "            bigrams.append(f\"{words_with_positions[i][0]} {words_with_positions[i + 1][0]}\")\n",
    "\n",
    "    return bigrams"
   ]
  },
  {
   "cell_type": "code",
   "execution_count": 231,
   "id": "38e6476a",
   "metadata": {},
   "outputs": [
    {
     "name": "stdout",
     "output_type": "stream",
     "text": [
      "Neque porro\n",
      "porro quisquam\n",
      "quisquam est\n",
      "qui dolorem\n",
      "dolorem ipsum\n",
      "ipsum quia\n",
      "quia dolor\n",
      "dolor sit\n",
      "sit amet\n",
      "adipisci velit\n",
      "sed quia\n",
      "quia non\n",
      "non numquam\n",
      "numquam eius\n",
      "eius modi\n",
      "modi tempora\n",
      "incidunt ut\n",
      "ut labore\n",
      "labore et\n",
      "et dolore\n",
      "dolore magnam\n",
      "magnam aliquam\n",
      "aliquam quaerat\n",
      "quaerat voluptatem\n"
     ]
    }
   ],
   "source": [
    "# Test case\n",
    "test = '''\n",
    "    Neque porro quisquam est, qui dolorem ipsum quia dolor sit amet, \n",
    "    consectetur, adipisci velit, sed quia non numquam eius modi tempora \n",
    "    incidunt ut labore et dolore magnam aliquam quaerat voluptatem.\n",
    "'''\n",
    "tokens = tokenizer(test)\n",
    "\n",
    "for token in tokens:\n",
    "    print(token)\n"
   ]
  },
  {
   "cell_type": "markdown",
   "id": "1241f210",
   "metadata": {
    "tags": [
     "exercise"
    ]
   },
   "source": [
    "__(ii)__ Use the tokenizer to obtain a tf-idf vector for each movie. Perform a (non-centered) principal component analysis (`sklearn.decomposition.TruncatedSVD`). _What fraction of variation is explained by the first principal component?_ "
   ]
  },
  {
   "cell_type": "code",
   "execution_count": 232,
   "id": "8428aecb",
   "metadata": {},
   "outputs": [
    {
     "name": "stdout",
     "output_type": "stream",
     "text": [
      "Fraction of variance explained by the first principal component: 0.09572771246895256\n"
     ]
    }
   ],
   "source": [
    "corpus = [details['script_content'] for details in movies_of_interest if details['script_content'] != \"Script content not found.\"]\n",
    "titles = [details['title'] for details in movies_of_interest if details['script_content'] != \"Script content not found.\"]\n",
    "genres = [set(details['genres']) & set(genres_of_interest) for details in movies_of_interest if details['script_content'] != \"Script content not found.\"]\n",
    "\n",
    "vectorizer = TfidfVectorizer(tokenizer=tokenizer)\n",
    "tfidf_matrix = vectorizer.fit_transform(corpus)\n",
    "\n",
    "svd = TruncatedSVD(n_components=1)\n",
    "svd.fit(tfidf_matrix.transpose())\n",
    "pc_components = svd.components_\n",
    "explained_variance = svd.explained_variance_ratio_[0]\n",
    "\n",
    "print(f\"Fraction of variance explained by the first principal component: {explained_variance}\")"
   ]
  },
  {
   "cell_type": "code",
   "execution_count": 234,
   "id": "c906ae0e",
   "metadata": {},
   "outputs": [
    {
     "data": {
      "text/plain": [
       "1605505"
      ]
     },
     "execution_count": 234,
     "metadata": {},
     "output_type": "execute_result"
    }
   ],
   "source": [
    "len(vectorizer.vocabulary_.keys())"
   ]
  },
  {
   "cell_type": "markdown",
   "id": "96a43a44",
   "metadata": {},
   "source": [
    "__(iii)__ Generate a strip-plot for the first principal components versus all three genres. Does visualization indicate that a good classification could result from this approach? "
   ]
  },
  {
   "cell_type": "code",
   "execution_count": 235,
   "id": "c58ae60e",
   "metadata": {},
   "outputs": [
    {
     "data": {
      "image/png": "[encoded data removed]",
      "text/plain": [
       "<Figure size 1000x600 with 1 Axes>"
      ]
     },
     "metadata": {},
     "output_type": "display_data"
    }
   ],
   "source": [
    "# Step 4: Visualization\n",
    "df = pd.DataFrame({\n",
    "    'First Principal Component': pc_components.ravel(),\n",
    "    'Genre': ['|'.join(g) for g in genres],\n",
    "    'Title': titles\n",
    "})\n",
    "\n",
    "# Plotting\n",
    "plt.figure(figsize=(10, 6))\n",
    "sns.stripplot(data=df, x='Genre', y='First Principal Component', jitter=True)\n",
    "plt.title('First Principal Component by Genre')\n",
    "plt.xlabel('Genre')\n",
    "plt.ylabel('First Principal Component')\n",
    "plt.xticks(rotation=45)\n",
    "plt.tight_layout()\n",
    "plt.show()"
   ]
  },
  {
   "cell_type": "markdown",
   "id": "c798909e",
   "metadata": {},
   "source": [
    "While the plot does show some level of separation, the significant overlap suggests that classification based solely on the first principal component might not be very effective. For a good classification, one typically hopes to see more distinct and non-overlapping distributions for each category. The plot implies that additional components or other features might be necessary to improve classification performance."
   ]
  }
 ],
 "metadata": {
  "celltoolbar": "Tags",
  "kernelspec": {
   "display_name": "Python 3 (ipykernel)",
   "language": "python",
   "name": "python3"
  },
  "language_info": {
   "codemirror_mode": {
    "name": "ipython",
    "version": 3
   },
   "file_extension": ".py",
   "mimetype": "text/x-python",
   "name": "python",
   "nbconvert_exporter": "python",
   "pygments_lexer": "ipython3",
   "version": "3.12.1"
  }
 },
 "nbformat": 4,
 "nbformat_minor": 5
}
